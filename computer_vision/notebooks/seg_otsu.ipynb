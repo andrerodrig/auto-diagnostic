{
  "nbformat": 4,
  "nbformat_minor": 0,
  "metadata": {
    "colab": {
      "name": "seg_otsu.ipynb",
      "private_outputs": true,
      "provenance": [],
      "collapsed_sections": []
    },
    "kernelspec": {
      "name": "python3",
      "display_name": "Python 3"
    },
    "language_info": {
      "name": "python"
    }
  },
  "cells": [
    {
      "cell_type": "code",
      "execution_count": null,
      "metadata": {
        "id": "wE9E77mdokAm"
      },
      "outputs": [],
      "source": [
        "import cv2 as cv\n",
        "import numpy as np\n",
        "import matplotlib\n",
        "import matplotlib.pyplot as plt\n",
        "import pandas as pd"
      ]
    },
    {
      "cell_type": "code",
      "source": [
        "font = {'family' : 'normal',\n",
        "        'size'   : 22}\n",
        "matplotlib.rc('font', **font)"
      ],
      "metadata": {
        "id": "NcL4H7Bxoxhj"
      },
      "execution_count": null,
      "outputs": []
    },
    {
      "cell_type": "code",
      "source": [
        "path_geral = '/content/drive/MyDrive/leaves/'\n",
        "path_gold = '/content/drive/MyDrive/leaves/padrao-ouro/'"
      ],
      "metadata": {
        "id": "ZubDKVYbpM2w"
      },
      "execution_count": null,
      "outputs": []
    },
    {
      "cell_type": "code",
      "source": [
        ""
      ],
      "metadata": {
        "id": "ovkZTYj7pShm"
      },
      "execution_count": null,
      "outputs": []
    },
    {
      "cell_type": "code",
      "source": [
        ""
      ],
      "metadata": {
        "id": "nrlqb2f2pUmJ"
      },
      "execution_count": null,
      "outputs": []
    },
    {
      "cell_type": "code",
      "source": [
        ""
      ],
      "metadata": {
        "id": "_AQuhNumpecQ"
      },
      "execution_count": null,
      "outputs": []
    },
    {
      "cell_type": "code",
      "source": [
        ""
      ],
      "metadata": {
        "id": "ODsNJQHLphM5"
      },
      "execution_count": null,
      "outputs": []
    },
    {
      "cell_type": "code",
      "source": [
        ""
      ],
      "metadata": {
        "id": "4lM5C3oXpw50"
      },
      "execution_count": null,
      "outputs": []
    },
    {
      "cell_type": "markdown",
      "source": [
        "segmentação"
      ],
      "metadata": {
        "id": "JbQL1icwp2wX"
      }
    },
    {
      "cell_type": "code",
      "source": [
        ""
      ],
      "metadata": {
        "id": "kk02Jnqmp93u"
      },
      "execution_count": null,
      "outputs": []
    },
    {
      "cell_type": "code",
      "source": [
        ""
      ],
      "metadata": {
        "id": "dKUzyQUap-a1"
      },
      "execution_count": null,
      "outputs": []
    },
    {
      "cell_type": "code",
      "source": [
        ""
      ],
      "metadata": {
        "id": "RLsKWiAypy6w"
      },
      "execution_count": null,
      "outputs": []
    },
    {
      "cell_type": "code",
      "source": [
        ""
      ],
      "metadata": {
        "id": "690o-RZlqPlm"
      },
      "execution_count": null,
      "outputs": []
    },
    {
      "cell_type": "code",
      "source": [
        "path_mascara = '/content/drive/MyDrive/leaves/otsu/'"
      ],
      "metadata": {
        "id": "0ijXFb3-qae6"
      },
      "execution_count": null,
      "outputs": []
    },
    {
      "cell_type": "code",
      "source": [
        "import skimage as ski"
      ],
      "metadata": {
        "id": "USPdcuFYvpbd"
      },
      "execution_count": null,
      "outputs": []
    },
    {
      "cell_type": "code",
      "source": [
        "from skimage.io import imsave"
      ],
      "metadata": {
        "id": "wShHvF7PvzHb"
      },
      "execution_count": null,
      "outputs": []
    },
    {
      "cell_type": "code",
      "source": [
        ""
      ],
      "metadata": {
        "id": "Sqdx1Tv6vs4r"
      },
      "execution_count": null,
      "outputs": []
    },
    {
      "cell_type": "code",
      "source": [
        "def plot_and_save(img,filtro,name_img):\n",
        "    fig,ax = plt.subplots(1,2, figsize=(10,15))\n",
        "    fig.suptitle('Imagem original x mask otsu')\n",
        "    ax[0].imshow(img)\n",
        "    ax[0].set_title('Imagem original')\n",
        "    ax[1].imshow(filtro,cmap=\"gray\")\n",
        "    ax[1].set_title('mask otsu')\n",
        "\n",
        "    \n",
        "    plt.savefig(path_mascara+name_img+'.jpg', bbox_inches='tight',pad_inches = 0)\n",
        "    imsave(path_mascara+name_img+'filtro'+'.jpg', filtro)\n",
        "    #plt.imsave(path_mascara+name_img+'filtro'+'.jpg', filtro)"
      ],
      "metadata": {
        "id": "562K-JG1q1eo"
      },
      "execution_count": null,
      "outputs": []
    },
    {
      "cell_type": "code",
      "source": [
        "def im_write(img2,name_img):\n",
        "    img  = cv.imread(img2)\n",
        "    img2 = cv.cvtColor(img,cv.COLOR_BGR2RGB)\n",
        "    img2 = cv.resize(img2,(1280,960),interpolation = cv.INTER_AREA)\n",
        "    gray = cv.cvtColor(img2,cv.COLOR_RGB2GRAY) # escala de cinza\n",
        "    tipo = cv.THRESH_BINARY_INV + cv.THRESH_OTSU\n",
        "    limiar, image_binary = cv.threshold(gray , 0, 255, tipo)\n",
        "    plot_and_save(img2,image_binary,name_img)"
      ],
      "metadata": {
        "id": "CelyCpuOrGPb"
      },
      "execution_count": null,
      "outputs": []
    },
    {
      "cell_type": "code",
      "source": [
        "im_write('/content/drive/MyDrive/leaves/009.jpg','009')"
      ],
      "metadata": {
        "id": "GTZ0jc4KtQzX"
      },
      "execution_count": null,
      "outputs": []
    },
    {
      "cell_type": "code",
      "source": [
        "import re"
      ],
      "metadata": {
        "id": "VsE0FXhOrXJz"
      },
      "execution_count": null,
      "outputs": []
    },
    {
      "cell_type": "code",
      "source": [
        "import glob"
      ],
      "metadata": {
        "id": "fICRA_F6rZ10"
      },
      "execution_count": null,
      "outputs": []
    },
    {
      "cell_type": "code",
      "source": [
        "imgs = [im for im in glob.glob(path_geral+'*.jpg')]"
      ],
      "metadata": {
        "id": "cvWYbAqerbWs"
      },
      "execution_count": null,
      "outputs": []
    },
    {
      "cell_type": "code",
      "source": [
        "regex = r\"/([0-9]+).jpg\""
      ],
      "metadata": {
        "id": "cRIunRVZrd92"
      },
      "execution_count": null,
      "outputs": []
    },
    {
      "cell_type": "code",
      "source": [
        "names_imgs = []\n",
        "\n",
        "for img in imgs:\n",
        "    matches = re.search(regex, img)\n",
        "    names_imgs.append(matches.group(1))"
      ],
      "metadata": {
        "id": "Brw6L2icrhhm"
      },
      "execution_count": null,
      "outputs": []
    },
    {
      "cell_type": "code",
      "source": [
        "for img, name in zip(imgs,names_imgs):\n",
        "    im_write(img,name)"
      ],
      "metadata": {
        "id": "sNdXcTjQr0-x"
      },
      "execution_count": null,
      "outputs": []
    }
  ]
}