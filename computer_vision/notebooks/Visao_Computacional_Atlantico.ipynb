{
  "nbformat": 4,
  "nbformat_minor": 0,
  "metadata": {
    "colab": {
      "name": "Visao Computacional-Atlantico.ipynb",
      "provenance": [],
      "collapsed_sections": [],
      "authorship_tag": "ABX9TyP1Ab2y0tjDMNCmEcxhCwAp",
      "include_colab_link": true
    },
    "kernelspec": {
      "name": "python3",
      "display_name": "Python 3"
    },
    "language_info": {
      "name": "python"
    }
  },
  "cells": [
    {
      "cell_type": "markdown",
      "metadata": {
        "id": "view-in-github",
        "colab_type": "text"
      },
      "source": [
        "<a href=\"https://colab.research.google.com/github/andrerodrig/cognitive-computing-projects/blob/main/computer_vision/notebooks/Visao_Computacional_Atlantico.ipynb\" target=\"_parent\"><img src=\"https://colab.research.google.com/assets/colab-badge.svg\" alt=\"Open In Colab\"/></a>"
      ]
    },
    {
      "cell_type": "code",
      "source": [
        "import cv2\n",
        "import numpy as np\n",
        "import matplotlib.pyplot as plt\n",
        "import pandas as pd\n",
        "from skimage.filters import roberts, sobel, scharr, prewitt"
      ],
      "metadata": {
        "id": "6d8J5pCIrV1M"
      },
      "execution_count": null,
      "outputs": []
    },
    {
      "cell_type": "markdown",
      "source": [
        "# Padrão ouro da maior e menor largura dos exemplos definidos no padrão ouro de segmentação."
      ],
      "metadata": {
        "id": "h5JeDIQ_q4r8"
      }
    },
    {
      "cell_type": "code",
      "execution_count": null,
      "metadata": {
        "id": "p-ffmlOpqp_x"
      },
      "outputs": [],
      "source": [
        "area = 0\n",
        "for linha in range(60):\n",
        "  for coluna in range(60):\n",
        "    if image_binary[linha,coluna]!= 0: area += 1"
      ]
    },
    {
      "cell_type": "code",
      "source": [
        "larguras = []\n",
        "for linha in range(60):\n",
        "  largura = 0\n",
        "  for coluna in range(60):\n",
        "    if image_binary[linha,coluna]!= 0: largura += 1\n",
        "  larguras.append(largura)\n",
        "\n",
        "print(\"A folha possui as larguras:\")\n",
        "print(larguras)"
      ],
      "metadata": {
        "id": "M6NY-LF0rZyr"
      },
      "execution_count": null,
      "outputs": []
    },
    {
      "cell_type": "code",
      "source": [
        "comprimentos = []\n",
        "for coluna in range(60):\n",
        "  comprimento = 0\n",
        "  for linha in range(60):\n",
        "    if image_binary[linha,coluna]!= 0: comprimento += 1\n",
        "  comprimentos.append(comprimento)\n",
        "\n",
        "print(\"A folha possui as comprimentos:\")\n",
        "print(comprimentos)"
      ],
      "metadata": {
        "id": "FxWs_VuDrdRl"
      },
      "execution_count": null,
      "outputs": []
    },
    {
      "cell_type": "markdown",
      "source": [
        "# Armazenar as informações dos itens 3,4,5 em um .csv"
      ],
      "metadata": {
        "id": "tUXb1q2srpcy"
      }
    },
    {
      "cell_type": "code",
      "source": [
        "dados_folha = {\n",
        "    \"area\":area,\n",
        "    \"largura\":larguras[np.argmax(larguras)],\n",
        "    \"comprimento\":comprimentos[np.argmax(comprimentos)]\n",
        "}"
      ],
      "metadata": {
        "id": "Y_bgnp55rs16"
      },
      "execution_count": null,
      "outputs": []
    },
    {
      "cell_type": "code",
      "source": [
        "df = pd.DataFrame([dados_folha])"
      ],
      "metadata": {
        "id": "HbelJ27Irvak"
      },
      "execution_count": null,
      "outputs": []
    },
    {
      "cell_type": "code",
      "source": [
        "df.to_csv(path)"
      ],
      "metadata": {
        "id": "SOgiA26XrxYt"
      },
      "execution_count": null,
      "outputs": []
    },
    {
      "cell_type": "markdown",
      "source": [
        "# Implementar 3 técnicas de segmentação e aplicar nos 20 exemplos com padrão ouro definido."
      ],
      "metadata": {
        "id": "Et6WwklAr70V"
      }
    },
    {
      "cell_type": "code",
      "source": [
        "def plot_and_save(img,maskwater,name_img):\n",
        "    fig,ax = plt.subplots(1,2, figsize=(10,15))\n",
        "    fig.suptitle('Imagem original x mask padrão ouro x mask watershed')\n",
        "    ax[0].imshow(img)\n",
        "    ax[0].set_title('Imagem original')\n",
        "    ax[1].imshow(maskwater)\n",
        "    ax[1].set_title('mask watershed')\n",
        "\n",
        "    plt.savefig(path_mascara+name_img+'.jpg', bbox_inches='tight',pad_inches = 0)\n",
        "    plt.imsave(path_mascara+name_img+'filtro'+'.jpg', maskwater)"
      ],
      "metadata": {
        "id": "Z6iqr-5_sLcm"
      },
      "execution_count": null,
      "outputs": []
    },
    {
      "cell_type": "markdown",
      "source": [
        "WaterShed"
      ],
      "metadata": {
        "id": "vmzzOZKHsMGx"
      }
    },
    {
      "cell_type": "code",
      "source": [
        "def im_write(img2,name_img):\n",
        "    img  = cv.imread(img2)\n",
        "    img2 = cv.cvtColor(img,cv.COLOR_BGR2RGB)\n",
        "    gray = cv.cvtColor(img2,cv.COLOR_RGB2GRAY) # escala de cinza\n",
        "    ret, thresh = cv.threshold(gray,0,255,cv.THRESH_BINARY_INV+cv.THRESH_OTSU) #pegando threshold\n",
        "    kernel = np.ones((3,3),np.uint8) # criando o kernel 3 x 3\n",
        "    opening = cv.morphologyEx(thresh,cv.MORPH_OPEN,kernel, iterations = 2) # aplicando tecnicas de erosão e posteriomente dilatação\n",
        "    dist_transform = cv.distanceTransform(opening,cv.DIST_L2,5) #\n",
        "    sure_bg = cv.dilate(opening,kernel,iterations=3)\n",
        "    ret, sure_fg = cv.threshold(dist_transform,0.7*dist_transform.max(),255,0)\n",
        "    sure_fg = np.uint8(sure_fg)\n",
        "    unknown = cv.subtract(sure_bg,sure_fg)\n",
        "    ret, markers = cv.connectedComponents(sure_fg)\n",
        "    markers = markers+1\n",
        "    markers[unknown==255] = 0\n",
        "    markers = cv.watershed(img,markers)\n",
        "    img[markers == -1] = [255,0,0]\n",
        "    #plt.imshow(markers)\n",
        "    # regex\n",
        "    #cv.imwrite(path_mascara+name_img+'.jpg',markers)\n",
        "    plot_and_save(img2,markers,name_img)"
      ],
      "metadata": {
        "id": "kk2FUwDwr8_2"
      },
      "execution_count": null,
      "outputs": []
    },
    {
      "cell_type": "markdown",
      "source": [
        "Sobel"
      ],
      "metadata": {
        "id": "DsRjpY6VsfgF"
      }
    },
    {
      "cell_type": "code",
      "source": [
        "def sobel_(img_gray)\n",
        "  img_sobel = sobel(img_gray)\n",
        "\n",
        "  return img_sobel\n",
        "\n"
      ],
      "metadata": {
        "id": "NkvSEZg8sg-n"
      },
      "execution_count": null,
      "outputs": []
    },
    {
      "cell_type": "markdown",
      "source": [
        "Otsu"
      ],
      "metadata": {
        "id": "B_6-Aa5Ys5uP"
      }
    },
    {
      "cell_type": "code",
      "source": [
        "def im_write(img2,name_img):\n",
        "    img  = cv.imread(img2)\n",
        "    img2 = cv.cvtColor(img,cv.COLOR_BGR2RGB)\n",
        "    img2 = cv.resize(img2,(1280,960),interpolation = cv.INTER_AREA)\n",
        "    gray = cv.cvtColor(img2,cv.COLOR_RGB2GRAY) # escala de cinza\n",
        "    tipo = cv.THRESH_BINARY_INV + cv.THRESH_OTSU\n",
        "    limiar, image_binary = cv.threshold(gray , 0, 255, tipo)\n",
        "    plot_and_save(img2,image_binary,name_img)\n"
      ],
      "metadata": {
        "id": "npo_G2wOs7Cr"
      },
      "execution_count": null,
      "outputs": []
    },
    {
      "cell_type": "markdown",
      "source": [
        "# Calcular métricas 𝐼𝑂𝑈 (𝑖𝑛𝑡𝑒𝑟𝑠𝑒𝑐𝑡𝑖𝑜𝑛 𝑜𝑣𝑒𝑟 u𝑛𝑖𝑜𝑛) para avaliação da qualidade da segmentação."
      ],
      "metadata": {
        "id": "Y1Nj82yts-wT"
      }
    },
    {
      "cell_type": "code",
      "source": [
        "def IoU_image_seg(img_gray, ground_truth, img_seg):\n",
        "  \"\"\"\n",
        "            Funcao responsavel pela métrica IoU\n",
        "            Arguments:\n",
        "              img_gray: np.array -- Uma matriz NumPy que representa a imagem na escala de cinza\n",
        "                com a forma (num_rows, num_cols, num_channels)\n",
        "              ground_truth: np.array -- Uma matriz NumPy que representa a imagem na escala de cinza\n",
        "                com a forma (num_rows, num_cols, num_channels)\n",
        "              img_seg:  np.array -- Uma matriz NumPy que representa a imagem binarizada\n",
        "            Return:\n",
        "              \n",
        "  \"\"\"\n",
        "  result1 = cv2.bitwise_and(img_gray, ground_truth)\n",
        "  result1 = cv2.cvtColor(result1, cv2.COLOR_BGR2RGB)\n",
        "\n",
        "  result2 = cv2.bitwise_and(img_gray, img_seg)\n",
        "  result2 = cv2.cvtColor(result2, cv2.COLOR_BGR2RGB)\n",
        "\n",
        "  intersection = np.logical_and(result1, result2)\n",
        "  union = np.logical_or(result1, result2)\n",
        "  iou_score = np.sum(intersection) / np.sum(union)\n",
        "  print('IoU is %s' % iou_score)"
      ],
      "metadata": {
        "id": "TD-9GeedtK3G"
      },
      "execution_count": null,
      "outputs": []
    },
    {
      "cell_type": "markdown",
      "source": [
        ""
      ],
      "metadata": {
        "id": "QNanvuPctWgx"
      }
    }
  ]
}