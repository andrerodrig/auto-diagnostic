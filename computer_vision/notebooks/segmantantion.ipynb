{
  "nbformat": 4,
  "nbformat_minor": 0,
  "metadata": {
    "colab": {
      "name": "segmantantion",
      "private_outputs": true,
      "provenance": []
    },
    "kernelspec": {
      "name": "python3",
      "display_name": "Python 3"
    },
    "language_info": {
      "name": "python"
    }
  },
  "cells": [
    {
      "cell_type": "code",
      "execution_count": null,
      "metadata": {
        "id": "vgr8KIvOCkKl"
      },
      "outputs": [],
      "source": [
        "import cv2 as cv\n",
        "import numpy as np\n",
        "import matplotlib.pyplot as plt\n",
        "import matplotlib"
      ]
    },
    {
      "cell_type": "code",
      "source": [
        "font = {'family' : 'normal',\n",
        "        'size'   : 22}"
      ],
      "metadata": {
        "id": "8UzQYYRxY3UW"
      },
      "execution_count": null,
      "outputs": []
    },
    {
      "cell_type": "code",
      "source": [
        "matplotlib.rc('font', **font)"
      ],
      "metadata": {
        "id": "vX8erIDhYtQf"
      },
      "execution_count": null,
      "outputs": []
    },
    {
      "cell_type": "code",
      "source": [
        "path_geral = '/content/drive/MyDrive/leaves/'\n",
        "path_gold = '/content/drive/MyDrive/leaves/padrao-ouro/'"
      ],
      "metadata": {
        "id": "Exuve04uC7u3"
      },
      "execution_count": null,
      "outputs": []
    },
    {
      "cell_type": "code",
      "source": [
        "img  = cv.imread(path_geral+'002.jpg')"
      ],
      "metadata": {
        "id": "FSy57eDhCov5"
      },
      "execution_count": null,
      "outputs": []
    },
    {
      "cell_type": "code",
      "source": [
        "img2 = cv.cvtColor(img, cv.COLOR_BGR2RGB)"
      ],
      "metadata": {
        "id": "qN0WcXt0FA8O"
      },
      "execution_count": null,
      "outputs": []
    },
    {
      "cell_type": "code",
      "source": [
        "plt.imshow(img2)"
      ],
      "metadata": {
        "id": "FCA0_dc4FDku"
      },
      "execution_count": null,
      "outputs": []
    },
    {
      "cell_type": "code",
      "source": [
        "plt.imshow(cv.cvtColor(img, cv.COLOR_BGR2RGB))"
      ],
      "metadata": {
        "id": "r8grj9dqDLHU"
      },
      "execution_count": null,
      "outputs": []
    },
    {
      "cell_type": "code",
      "source": [
        "img_mask = cv.imread(path_gold+'002_mask.png')"
      ],
      "metadata": {
        "id": "RFAEKodYDnYn"
      },
      "execution_count": null,
      "outputs": []
    },
    {
      "cell_type": "code",
      "source": [
        "plt.imshow(img_mask)"
      ],
      "metadata": {
        "id": "59ajz6T2Dusc"
      },
      "execution_count": null,
      "outputs": []
    },
    {
      "cell_type": "code",
      "source": [
        "gray = cv.cvtColor(img2,cv.COLOR_RGB2GRAY)\n",
        "ret, thresh = cv.threshold(gray,0,255,cv.THRESH_BINARY_INV+cv.THRESH_OTSU)"
      ],
      "metadata": {
        "id": "AqfTLlyNExNf"
      },
      "execution_count": null,
      "outputs": []
    },
    {
      "cell_type": "code",
      "source": [
        "plt.imshow(thresh)"
      ],
      "metadata": {
        "id": "3bC1WhKgE0N1"
      },
      "execution_count": null,
      "outputs": []
    },
    {
      "cell_type": "code",
      "source": [
        "kernel = np.ones((3,3),np.uint8)\n",
        "opening = cv.morphologyEx(thresh,cv.MORPH_OPEN,kernel, iterations = 2)"
      ],
      "metadata": {
        "id": "l9AWNxxQEksW"
      },
      "execution_count": null,
      "outputs": []
    },
    {
      "cell_type": "code",
      "source": [
        "dist_transform = cv.distanceTransform(opening,cv.DIST_L2,5)"
      ],
      "metadata": {
        "id": "lXfhq576EfTG"
      },
      "execution_count": null,
      "outputs": []
    },
    {
      "cell_type": "code",
      "source": [
        "sure_bg = cv.dilate(opening,kernel,iterations=3)"
      ],
      "metadata": {
        "id": "rjpE842uJZ67"
      },
      "execution_count": null,
      "outputs": []
    },
    {
      "cell_type": "code",
      "source": [
        "ret, sure_fg = cv.threshold(dist_transform,0.7*dist_transform.max(),255,0)"
      ],
      "metadata": {
        "id": "xXHhx84LEe7w"
      },
      "execution_count": null,
      "outputs": []
    },
    {
      "cell_type": "code",
      "source": [
        "sure_fg = np.uint8(sure_fg)\n",
        "unknown = cv.subtract(sure_bg,sure_fg)"
      ],
      "metadata": {
        "id": "G95p_EzvJLCs"
      },
      "execution_count": null,
      "outputs": []
    },
    {
      "cell_type": "code",
      "source": [
        "ret, markers = cv.connectedComponents(sure_fg)"
      ],
      "metadata": {
        "id": "Xol67fTKJK_O"
      },
      "execution_count": null,
      "outputs": []
    },
    {
      "cell_type": "code",
      "source": [
        "markers = markers+1"
      ],
      "metadata": {
        "id": "jYaVYhPOJdxW"
      },
      "execution_count": null,
      "outputs": []
    },
    {
      "cell_type": "code",
      "source": [
        "markers = markers+1\n",
        "markers[unknown==255] = 0\n",
        "markers = cv.watershed(img,markers)\n",
        "img[markers == -1] = [255,0,0]\n",
        "plt.imshow(markers)"
      ],
      "metadata": {
        "id": "qURSFPPtb1ti"
      },
      "execution_count": null,
      "outputs": []
    },
    {
      "cell_type": "code",
      "source": [
        "markers[unknown==255] = 0"
      ],
      "metadata": {
        "id": "xecZZouwJdue"
      },
      "execution_count": null,
      "outputs": []
    },
    {
      "cell_type": "code",
      "source": [
        "markers = cv.watershed(img,markers)\n",
        "img[markers == -1] = [255,0,0]"
      ],
      "metadata": {
        "id": "eMWrE2WWJdrs"
      },
      "execution_count": null,
      "outputs": []
    },
    {
      "cell_type": "code",
      "source": [
        "plt.imshow(markers)"
      ],
      "metadata": {
        "id": "hiRccAgyDw90"
      },
      "execution_count": null,
      "outputs": []
    },
    {
      "cell_type": "code",
      "source": [
        "plt.imshow(img)"
      ],
      "metadata": {
        "id": "XpENKixZEdO3"
      },
      "execution_count": null,
      "outputs": []
    },
    {
      "cell_type": "markdown",
      "source": [
        "axs[0,0].imshow(img2)\n",
        "axs[0,1].imshow(img_mask)\n",
        "axs[0,2].imshow(markers)\n",
        "fig.suptitle('Imagem original x Mascara Padrão Ouro x Filtro watershed')"
      ],
      "metadata": {
        "id": "twKDi41GMVap"
      }
    },
    {
      "cell_type": "code",
      "source": [
        "fig,ax = plt.subplots(1,2, figsize=(20,15))\n",
        "fig.suptitle('Imagem original x mask padrão ouro x mask watershed')\n",
        "ax[0].imshow(img2)\n",
        "ax[0].set_title('Imagem original')\n",
        "ax[1].imshow(markers)\n",
        "ax[1].set_title('mask watershed')\n"
      ],
      "metadata": {
        "id": "2vA_fTWCPlE_"
      },
      "execution_count": null,
      "outputs": []
    },
    {
      "cell_type": "code",
      "source": [
        "path_mascara = '/content/drive/MyDrive/leaves/mascara_watershed/'"
      ],
      "metadata": {
        "id": "1z_f6sqed19O"
      },
      "execution_count": null,
      "outputs": []
    },
    {
      "cell_type": "code",
      "source": [
        "def plot_and_save(img,maskwater,name_img):\n",
        "    fig,ax = plt.subplots(1,2, figsize=(10,15))\n",
        "    fig.suptitle('Imagem original x mask padrão ouro x mask watershed')\n",
        "    ax[0].imshow(img)\n",
        "    ax[0].set_title('Imagem original')\n",
        "    ax[1].imshow(maskwater)\n",
        "    ax[1].set_title('mask watershed')\n",
        "\n",
        "    plt.savefig(path_mascara+name_img+'.jpg', bbox_inches='tight',pad_inches = 0)\n",
        "    plt.imsave(path_mascara+name_img+'filtro'+'.jpg', maskwater)"
      ],
      "metadata": {
        "id": "WyGo2wC2p_50"
      },
      "execution_count": null,
      "outputs": []
    },
    {
      "cell_type": "code",
      "source": [
        "plot_and_save(img2,markers,'img002')"
      ],
      "metadata": {
        "id": "j1C97MrprUQl"
      },
      "execution_count": null,
      "outputs": []
    },
    {
      "cell_type": "code",
      "source": [
        "\n",
        "def im_write(img2,name_img):\n",
        "    img  = cv.imread(img2)\n",
        "    img2 = cv.cvtColor(img,cv.COLOR_BGR2RGB)\n",
        "    gray = cv.cvtColor(img2,cv.COLOR_RGB2GRAY) # escala de cinza\n",
        "    ret, thresh = cv.threshold(gray,0,255,cv.THRESH_BINARY_INV+cv.THRESH_OTSU) #pegando threshold\n",
        "    kernel = np.ones((3,3),np.uint8) # criando o kernel 3 x 3\n",
        "    opening = cv.morphologyEx(thresh,cv.MORPH_OPEN,kernel, iterations = 2) # aplicando tecnicas de erosão e posteriomente dilatação\n",
        "    dist_transform = cv.distanceTransform(opening,cv.DIST_L2,5) #\n",
        "    sure_bg = cv.dilate(opening,kernel,iterations=3)\n",
        "    ret, sure_fg = cv.threshold(dist_transform,0.7*dist_transform.max(),255,0)\n",
        "    sure_fg = np.uint8(sure_fg)\n",
        "    unknown = cv.subtract(sure_bg,sure_fg)\n",
        "    ret, markers = cv.connectedComponents(sure_fg)\n",
        "    markers = markers+1\n",
        "    markers[unknown==255] = 0\n",
        "    markers = cv.watershed(img,markers)\n",
        "    img[markers == -1] = [255,0,0]\n",
        "    #plt.imshow(markers)\n",
        "    # regex\n",
        "    #cv.imwrite(path_mascara+name_img+'.jpg',markers)\n",
        "    plot_and_save(img2,markers,name_img)"
      ],
      "metadata": {
        "id": "6QpdcgRzLYvp"
      },
      "execution_count": null,
      "outputs": []
    },
    {
      "cell_type": "code",
      "source": [
        "import re"
      ],
      "metadata": {
        "id": "NbDz4wtxhxkE"
      },
      "execution_count": null,
      "outputs": []
    },
    {
      "cell_type": "code",
      "source": [
        "import glob"
      ],
      "metadata": {
        "id": "B1cWPC4KeebB"
      },
      "execution_count": null,
      "outputs": []
    },
    {
      "cell_type": "code",
      "source": [
        "imgs = [im for im in glob.glob(path_geral+'*.jpg')]"
      ],
      "metadata": {
        "id": "zLUoV2sletc4"
      },
      "execution_count": null,
      "outputs": []
    },
    {
      "cell_type": "code",
      "source": [
        "regex = r\"/([0-9]+).jpg\""
      ],
      "metadata": {
        "id": "JmXiws2Vh2ut"
      },
      "execution_count": null,
      "outputs": []
    },
    {
      "cell_type": "code",
      "source": [
        "names_imgs = []\n",
        "\n",
        "for img in imgs:\n",
        "    matches = re.search(regex, img)\n",
        "    print(matches.group(1))\n",
        "    names_imgs.append(matches.group(1))"
      ],
      "metadata": {
        "id": "RfZd28P7hqep"
      },
      "execution_count": null,
      "outputs": []
    },
    {
      "cell_type": "code",
      "source": [
        "imgs"
      ],
      "metadata": {
        "id": "VWuH06ipe6zU"
      },
      "execution_count": null,
      "outputs": []
    },
    {
      "cell_type": "code",
      "source": [
        "for img, name in zip(imgs,names_imgs):\n",
        "    im_write(img,name)"
      ],
      "metadata": {
        "id": "YF7c4IvUfuZc"
      },
      "execution_count": null,
      "outputs": []
    }
  ]
}