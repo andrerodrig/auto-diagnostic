{
 "cells": [
  {
   "cell_type": "code",
   "execution_count": 1,
   "metadata": {
    "collapsed": false,
    "pycharm": {
     "name": "#%%\n"
    }
   },
   "outputs": [],
   "source": [
    "from auto_diagnostic.tfidf import TFIDF"
   ]
  },
  {
   "cell_type": "code",
   "execution_count": 2,
   "metadata": {
    "collapsed": false,
    "pycharm": {
     "name": "#%%\n"
    }
   },
   "outputs": [],
   "source": [
    "import nltk"
   ]
  },
  {
   "cell_type": "code",
   "execution_count": 3,
   "metadata": {
    "collapsed": false,
    "pycharm": {
     "name": "#%%\n"
    }
   },
   "outputs": [],
   "source": [
    "text = ['As frases de tópico são semelhantes às declarações de mini tese.\\\n",
    "        Como uma declaração de tese, um tópico frasal tem um \\\n",
    "        ponto principal. Considerando que a tese é o ponto principal do ensaio',\\\n",
    "        'o tópico frasal é o ponto principal do parágrafo.\\\n",
    "        Como a declaração de tese, um tópico frasal tem uma função unificadora. \\\n",
    "        Mas uma declaração de tese ou frase de tópico por si só não garante unidade.', \\\n",
    "        'Um ensaio é unificado se todos os parágrafos se relacionam com a tese,\\\n",
    "        um parágrafo é unificado se todas as sentenças se relacionam com o tópico frasal while.']"
   ]
  },
  {
   "cell_type": "code",
   "execution_count": 4,
   "metadata": {
    "collapsed": false,
    "pycharm": {
     "name": "#%%\n"
    }
   },
   "outputs": [],
   "source": [
    "# processando os dados\n",
    "tfidf = TFIDF(word_set=[], sentences=[])"
   ]
  },
  {
   "cell_type": "code",
   "execution_count": 5,
   "metadata": {
    "collapsed": false,
    "pycharm": {
     "name": "#%%\n"
    }
   },
   "outputs": [
    {
     "name": "stderr",
     "output_type": "stream",
     "text": [
      "[nltk_data] Downloading package stopwords to /home/aizen/nltk_data...\n",
      "[nltk_data]   Package stopwords is already up-to-date!\n"
     ]
    },
    {
     "data": {
      "text/plain": [
       "True"
      ]
     },
     "execution_count": 5,
     "metadata": {},
     "output_type": "execute_result"
    }
   ],
   "source": [
    "nltk.download('stopwords')"
   ]
  },
  {
   "cell_type": "code",
   "execution_count": 6,
   "metadata": {
    "collapsed": false,
    "pycharm": {
     "name": "#%%\n"
    }
   },
   "outputs": [],
   "source": [
    "stopwords = nltk.corpus.stopwords.words('portuguese')"
   ]
  },
  {
   "cell_type": "code",
   "execution_count": 7,
   "metadata": {
    "collapsed": false,
    "pycharm": {
     "name": "#%%\n"
    }
   },
   "outputs": [
    {
     "data": {
      "text/plain": [
       "['de', 'a', 'o', 'que', 'e', 'é', 'do', 'da', 'em', 'um']"
      ]
     },
     "execution_count": 7,
     "metadata": {},
     "output_type": "execute_result"
    }
   ],
   "source": [
    "stopwords[:10]"
   ]
  },
  {
   "cell_type": "code",
   "execution_count": 8,
   "metadata": {
    "collapsed": false,
    "pycharm": {
     "name": "#%%\n"
    }
   },
   "outputs": [],
   "source": [
    "set_stopwords = set(stopwords)"
   ]
  },
  {
   "cell_type": "code",
   "execution_count": 9,
   "metadata": {
    "collapsed": false,
    "pycharm": {
     "name": "#%%\n"
    }
   },
   "outputs": [],
   "source": [
    "word_set = tfidf.get_wordset_from_text(text)"
   ]
  },
  {
   "cell_type": "code",
   "execution_count": 10,
   "metadata": {
    "collapsed": false,
    "pycharm": {
     "name": "#%%\n"
    }
   },
   "outputs": [],
   "source": [
    "worrd_set_clean = [word for word in tfidf.word_set if word not in set_stopwords]"
   ]
  },
  {
   "cell_type": "code",
   "execution_count": 11,
   "metadata": {
    "pycharm": {
     "name": "#%%\n"
    }
   },
   "outputs": [
    {
     "data": {
      "text/plain": [
       "['parágrafos',\n",
       " 'frase',\n",
       " 'todos',\n",
       " 'declarações',\n",
       " 'tese',\n",
       " 'ponto',\n",
       " 'declaração',\n",
       " 'si',\n",
       " 'relacionam',\n",
       " 'frases',\n",
       " 'garante',\n",
       " 'função',\n",
       " 'tópico',\n",
       " 'semelhantes',\n",
       " 'ensaio',\n",
       " 'while',\n",
       " 'todas',\n",
       " 'considerando',\n",
       " 'sentenças',\n",
       " 'unidade',\n",
       " 'mini',\n",
       " 'parágrafo',\n",
       " 'frasal',\n",
       " 'principal',\n",
       " 'unificado',\n",
       " 'unificadora']"
      ]
     },
     "execution_count": 11,
     "metadata": {},
     "output_type": "execute_result"
    }
   ],
   "source": [
    "worrd_set_clean"
   ]
  },
  {
   "cell_type": "code",
   "execution_count": 12,
   "metadata": {
    "collapsed": false,
    "pycharm": {
     "name": "#%%\n"
    }
   },
   "outputs": [
    {
     "data": {
      "text/plain": [
       "3"
      ]
     },
     "execution_count": 12,
     "metadata": {},
     "output_type": "execute_result"
    }
   ],
   "source": [
    "total_documents = len(tfidf.sentences)\n",
    "total_documents"
   ]
  },
  {
   "cell_type": "code",
   "execution_count": 13,
   "metadata": {
    "collapsed": false,
    "pycharm": {
     "name": "#%%\n"
    }
   },
   "outputs": [],
   "source": [
    "index_dict = tfidf.get_wordset_index_dict()"
   ]
  },
  {
   "cell_type": "code",
   "execution_count": 14,
   "metadata": {
    "pycharm": {
     "name": "#%%\n"
    }
   },
   "outputs": [
    {
     "data": {
      "text/plain": [
       "{'por': 0,\n",
       " 'ou': 1,\n",
       " 'parágrafos': 2,\n",
       " 'as': 3,\n",
       " 'frase': 4,\n",
       " 'todos': 5,\n",
       " 'é': 6,\n",
       " 'declarações': 7,\n",
       " 'tese': 8,\n",
       " 'ponto': 9,\n",
       " 'mas': 10,\n",
       " 'os': 11,\n",
       " 'declaração': 12,\n",
       " 'como': 13,\n",
       " 'si': 14,\n",
       " 'relacionam': 15,\n",
       " 'são': 16,\n",
       " 'frases': 17,\n",
       " 'do': 18,\n",
       " 'não': 19,\n",
       " 'garante': 20,\n",
       " 'se': 21,\n",
       " 'função': 22,\n",
       " 'tópico': 23,\n",
       " 'semelhantes': 24,\n",
       " 'ensaio': 25,\n",
       " 'while': 26,\n",
       " 'todas': 27,\n",
       " 'às': 28,\n",
       " 'só': 29,\n",
       " 'considerando': 30,\n",
       " 'sentenças': 31,\n",
       " 'que': 32,\n",
       " 'unidade': 33,\n",
       " 'um': 34,\n",
       " 'o': 35,\n",
       " 'mini': 36,\n",
       " 'parágrafo': 37,\n",
       " 'frasal': 38,\n",
       " 'com': 39,\n",
       " 'uma': 40,\n",
       " 'tem': 41,\n",
       " 'principal': 42,\n",
       " 'unificado': 43,\n",
       " 'de': 44,\n",
       " 'a': 45,\n",
       " 'unificadora': 46}"
      ]
     },
     "execution_count": 14,
     "metadata": {},
     "output_type": "execute_result"
    }
   ],
   "source": [
    "index_dict"
   ]
  },
  {
   "cell_type": "code",
   "execution_count": 15,
   "metadata": {
    "collapsed": false,
    "pycharm": {
     "name": "#%%\n"
    }
   },
   "outputs": [],
   "source": [
    "word_count = tfidf.count_dict()"
   ]
  },
  {
   "cell_type": "code",
   "execution_count": 16,
   "metadata": {
    "pycharm": {
     "name": "#%%\n"
    }
   },
   "outputs": [
    {
     "data": {
      "text/plain": [
       "{'por': 1,\n",
       " 'ou': 1,\n",
       " 'parágrafos': 1,\n",
       " 'as': 2,\n",
       " 'frase': 1,\n",
       " 'todos': 1,\n",
       " 'é': 3,\n",
       " 'declarações': 1,\n",
       " 'tese': 3,\n",
       " 'ponto': 2,\n",
       " 'mas': 1,\n",
       " 'os': 1,\n",
       " 'declaração': 2,\n",
       " 'como': 2,\n",
       " 'si': 1,\n",
       " 'relacionam': 1,\n",
       " 'são': 1,\n",
       " 'frases': 1,\n",
       " 'do': 2,\n",
       " 'não': 1,\n",
       " 'garante': 1,\n",
       " 'se': 1,\n",
       " 'função': 1,\n",
       " 'tópico': 3,\n",
       " 'semelhantes': 1,\n",
       " 'ensaio': 2,\n",
       " 'while': 1,\n",
       " 'todas': 1,\n",
       " 'às': 1,\n",
       " 'só': 1,\n",
       " 'considerando': 1,\n",
       " 'sentenças': 1,\n",
       " 'que': 1,\n",
       " 'unidade': 1,\n",
       " 'um': 3,\n",
       " 'o': 3,\n",
       " 'mini': 1,\n",
       " 'parágrafo': 2,\n",
       " 'frasal': 3,\n",
       " 'com': 1,\n",
       " 'uma': 2,\n",
       " 'tem': 2,\n",
       " 'principal': 2,\n",
       " 'unificado': 1,\n",
       " 'de': 2,\n",
       " 'a': 3,\n",
       " 'unificadora': 1}"
      ]
     },
     "execution_count": 16,
     "metadata": {},
     "output_type": "execute_result"
    }
   ],
   "source": [
    "word_count"
   ]
  },
  {
   "cell_type": "code",
   "execution_count": 17,
   "metadata": {
    "collapsed": false,
    "pycharm": {
     "name": "#%%\n"
    }
   },
   "outputs": [
    {
     "name": "stderr",
     "output_type": "stream",
     "text": [
      "[nltk_data] Downloading package stopwords to /home/aizen/nltk_data...\n",
      "[nltk_data]   Package stopwords is already up-to-date!\n"
     ]
    },
    {
     "data": {
      "text/plain": [
       "True"
      ]
     },
     "execution_count": 17,
     "metadata": {},
     "output_type": "execute_result"
    }
   ],
   "source": [
    "nltk.download('stopwords')"
   ]
  },
  {
   "cell_type": "code",
   "execution_count": 18,
   "metadata": {
    "collapsed": false,
    "pycharm": {
     "name": "#%%\n"
    }
   },
   "outputs": [],
   "source": [
    "import numpy as np"
   ]
  },
  {
   "cell_type": "code",
   "execution_count": 19,
   "metadata": {
    "pycharm": {
     "name": "#%%\n"
    }
   },
   "outputs": [
    {
     "name": "stdout",
     "output_type": "stream",
     "text": [
      "['as', 'frases', 'de', 'tópico', 'são', 'semelhantes', 'às', 'declarações', 'de', 'mini', 'tese', 'como', 'uma', 'declaração', 'de', 'tese', 'um', 'tópico', 'frasal', 'tem', 'um', 'ponto', 'principal', 'considerando', 'que', 'a', 'tese', 'é', 'o', 'ponto', 'principal', 'do', 'ensaio']\n",
      "['o', 'tópico', 'frasal', 'é', 'o', 'ponto', 'principal', 'do', 'parágrafo', 'como', 'a', 'declaração', 'de', 'tese', 'um', 'tópico', 'frasal', 'tem', 'uma', 'função', 'unificadora', 'mas', 'uma', 'declaração', 'de', 'tese', 'ou', 'frase', 'de', 'tópico', 'por', 'si', 'só', 'não', 'garante', 'unidade']\n",
      "['um', 'ensaio', 'é', 'unificado', 'se', 'todos', 'os', 'parágrafos', 'se', 'relacionam', 'com', 'a', 'tese', 'um', 'parágrafo', 'é', 'unificado', 'se', 'todas', 'as', 'sentenças', 'se', 'relacionam', 'com', 'o', 'tópico', 'frasal', 'while']\n"
     ]
    }
   ],
   "source": [
    "for word in tfidf.sentences:\n",
    "    print(word)"
   ]
  },
  {
   "cell_type": "code",
   "execution_count": 20,
   "metadata": {
    "collapsed": false,
    "pycharm": {
     "name": "#%%\n"
    }
   },
   "outputs": [],
   "source": [
    "vectors = tfidf.tf_idf()"
   ]
  },
  {
   "cell_type": "code",
   "execution_count": 21,
   "metadata": {
    "collapsed": false,
    "pycharm": {
     "name": "#%%\n"
    }
   },
   "outputs": [
    {
     "data": {
      "text/plain": [
       "array([ 0.00418005,  0.00418005,  0.00418005,  0.        ,  0.00418005,\n",
       "        0.00418005, -0.01186318,  0.00418005, -0.01779477,  0.        ,\n",
       "        0.00418005,  0.00418005,  0.        ,  0.        ,  0.00418005,\n",
       "        0.00836011,  0.00418005,  0.00418005,  0.        ,  0.00418005,\n",
       "        0.00418005,  0.01672021,  0.00418005, -0.01779477,  0.00418005,\n",
       "        0.        ,  0.00418005,  0.00418005,  0.00418005,  0.00418005,\n",
       "        0.00418005,  0.00418005,  0.00418005,  0.00418005, -0.01482897,\n",
       "       -0.01186318,  0.00418005,  0.        , -0.01186318,  0.00836011,\n",
       "        0.        ,  0.        ,  0.        ,  0.00836011,  0.        ,\n",
       "       -0.00889738,  0.00418005])"
      ]
     },
     "execution_count": 21,
     "metadata": {},
     "output_type": "execute_result"
    }
   ],
   "source": [
    "vectors"
   ]
  },
  {
   "cell_type": "code",
   "execution_count": 22,
   "metadata": {
    "collapsed": false,
    "pycharm": {
     "name": "#%%\n"
    }
   },
   "outputs": [
    {
     "data": {
      "text/plain": [
       "47"
      ]
     },
     "execution_count": 22,
     "metadata": {},
     "output_type": "execute_result"
    }
   ],
   "source": [
    "len(vectors)"
   ]
  },
  {
   "cell_type": "code",
   "execution_count": 25,
   "metadata": {
    "pycharm": {
     "name": "#%%\n"
    }
   },
   "outputs": [
    {
     "name": "stdout",
     "output_type": "stream",
     "text": [
      "[('se', 0.016720210643635644), ('relacionam', 0.008360105321817822), ('com', 0.008360105321817822), ('unificado', 0.008360105321817822), ('por', 0.004180052660908911)]\n"
     ]
    }
   ],
   "source": [
    "\n",
    "indexed_tfidf = [(v, vectors[v]) for v in index_dict.values()]\n",
    "max_tfidf_list = [(k, indexed_tfidf[v][1]) for k, v in index_dict.items()]\n",
    "print((sorted(max_tfidf_list, key=lambda x: x[1], reverse=True)[:5]))"
   ]
  },
  {
   "cell_type": "code",
   "execution_count": 33,
   "metadata": {
    "collapsed": false,
    "pycharm": {
     "name": "#%%\n"
    }
   },
   "outputs": [
    {
     "data": {
      "text/plain": [
       "[('se', 0.016720210643635644),\n",
       " ('relacionam', 0.008360105321817822),\n",
       " ('com', 0.008360105321817822),\n",
       " ('unificado', 0.008360105321817822),\n",
       " ('por', 0.004180052660908911)]"
      ]
     },
     "execution_count": 33,
     "metadata": {},
     "output_type": "execute_result"
    }
   ],
   "source": [
    "n_largests = tfidf.select_n_largests(vectors=vectors)\n",
    "n_largests"
   ]
  },
  {
   "cell_type": "code",
   "execution_count": 52,
   "metadata": {
    "collapsed": false,
    "pycharm": {
     "name": "#%%\n"
    }
   },
   "outputs": [],
   "source": [
    "word_tfidf_list = [(k, indexed_tfidf[v][1]) for k, v in index_dict.items()]\n",
    "indexed_tfidf = [(v, vectors[v]) for v in index_dict.values()]\n",
    "\n",
    "# [word for word in word_tfidf_list if word in n_largests]"
   ]
  },
  {
   "cell_type": "code",
   "execution_count": 51,
   "metadata": {
    "pycharm": {
     "name": "#%%\n"
    }
   },
   "outputs": [
    {
     "data": {
      "text/plain": [
       "[('se', 0.016720210643635644),\n",
       " ('relacionam', 0.008360105321817822),\n",
       " ('com', 0.008360105321817822),\n",
       " ('unificado', 0.008360105321817822),\n",
       " ('por', 0.004180052660908911)]"
      ]
     },
     "execution_count": 51,
     "metadata": {},
     "output_type": "execute_result"
    }
   ],
   "source": [
    "[(word, tf) for word, tf in n_largests]"
   ]
  },
  {
   "cell_type": "code",
   "execution_count": null,
   "metadata": {
    "pycharm": {
     "name": "#%%\n"
    }
   },
   "outputs": [],
   "source": []
  }
 ],
 "metadata": {
  "interpreter": {
   "hash": "7598cb7ea9dde01de882b849b5b3fab1d8679c9ba86ddaed5ab6c7288771da54"
  },
  "kernelspec": {
   "display_name": "Python 3.8.10 ('.venv': poetry)",
   "language": "python",
   "name": "python3"
  },
  "language_info": {
   "codemirror_mode": {
    "name": "ipython",
    "version": 3
   },
   "file_extension": ".py",
   "mimetype": "text/x-python",
   "name": "python",
   "nbconvert_exporter": "python",
   "pygments_lexer": "ipython3",
   "version": "3.8.10"
  }
 },
 "nbformat": 4,
 "nbformat_minor": 0
}