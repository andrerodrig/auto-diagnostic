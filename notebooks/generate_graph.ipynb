{
 "cells": [
  {
   "cell_type": "code",
   "execution_count": 2,
   "metadata": {
    "pycharm": {
     "name": "#%%\n"
    }
   },
   "outputs": [],
   "source": [
    "from auto_diagnostic.tfidf import TFIDF\n",
    "import nltk\n",
    "import pandas as pd\n",
    "\n",
    "# processando os dados\n",
    "tfidf = TFIDF(word_set=[], sentences=[])"
   ]
  },
  {
   "cell_type": "code",
   "execution_count": 3,
   "metadata": {
    "pycharm": {
     "name": "#%%\n"
    }
   },
   "outputs": [],
   "source": [
    "text = ['As frases de tópico são semelhantes às declarações de mini tese.\\\n",
    "        Como uma declaração de tese, um tópico frasal tem um \\\n",
    "        ponto principal. Considerando que a tese é o ponto principal do ensaio',\\\n",
    "        'o tópico frasal é o ponto principal do parágrafo.\\\n",
    "        Como a declaração de tese, um tópico frasal tem uma função unificadora. \\\n",
    "        Mas uma declaração de tese ou frase de tópico por si só não garante unidade.', \\\n",
    "        'Um ensaio é unificado se todos os parágrafos se relacionam com a tese,\\\n",
    "        um parágrafo é unificado se todas as sentenças se relacionam com o tópico frasal while.']"
   ]
  },
  {
   "cell_type": "code",
   "execution_count": 4,
   "metadata": {
    "pycharm": {
     "name": "#%%\n"
    }
   },
   "outputs": [
    {
     "name": "stdout",
     "output_type": "stream",
     "text": [
      "[nltk_data] Downloading package stopwords to\n",
      "[nltk_data]     C:\\Users\\Felype\\AppData\\Roaming\\nltk_data...\n",
      "[nltk_data]   Package stopwords is already up-to-date!\n"
     ]
    },
    {
     "data": {
      "text/plain": [
       "True"
      ]
     },
     "execution_count": 4,
     "metadata": {},
     "output_type": "execute_result"
    }
   ],
   "source": [
    "nltk.download('stopwords')"
   ]
  },
  {
   "cell_type": "code",
   "execution_count": 5,
   "metadata": {
    "pycharm": {
     "name": "#%%\n"
    }
   },
   "outputs": [],
   "source": [
    "stopwords = nltk.corpus.stopwords.words('portuguese')"
   ]
  },
  {
   "cell_type": "code",
   "execution_count": 6,
   "metadata": {
    "pycharm": {
     "name": "#%%\n"
    }
   },
   "outputs": [
    {
     "data": {
      "text/plain": [
       "['de', 'a', 'o', 'que', 'e', 'é', 'do', 'da', 'em', 'um']"
      ]
     },
     "execution_count": 6,
     "metadata": {},
     "output_type": "execute_result"
    }
   ],
   "source": [
    "stopwords[:10]"
   ]
  },
  {
   "cell_type": "code",
   "execution_count": 7,
   "metadata": {
    "pycharm": {
     "name": "#%%\n"
    }
   },
   "outputs": [],
   "source": [
    "set_stopwords = set(stopwords)"
   ]
  },
  {
   "cell_type": "code",
   "execution_count": 8,
   "metadata": {
    "pycharm": {
     "name": "#%%\n"
    }
   },
   "outputs": [],
   "source": [
    "word_set = tfidf.get_wordset_from_text(text)"
   ]
  },
  {
   "cell_type": "code",
   "execution_count": 9,
   "metadata": {
    "pycharm": {
     "name": "#%%\n"
    }
   },
   "outputs": [],
   "source": [
    "# total_documents = len(tfidf.sentences)\n",
    "# total_documents"
   ]
  },
  {
   "cell_type": "code",
   "execution_count": 10,
   "metadata": {
    "pycharm": {
     "name": "#%%\n"
    }
   },
   "outputs": [],
   "source": [
    "index_dict = tfidf.get_wordset_index_dict()"
   ]
  },
  {
   "cell_type": "code",
   "execution_count": 11,
   "metadata": {},
   "outputs": [
    {
     "data": {
      "text/plain": [
       "{'tem': 0,\n",
       " 'parágrafo': 1,\n",
       " 'ponto': 2,\n",
       " 'declaração': 3,\n",
       " 'a': 4,\n",
       " 'tese': 5,\n",
       " 'só': 6,\n",
       " 'principal': 7,\n",
       " 'unificado': 8,\n",
       " 'todos': 9,\n",
       " 'com': 10,\n",
       " 'ensaio': 11,\n",
       " 'função': 12,\n",
       " 'parágrafos': 13,\n",
       " 'uma': 14,\n",
       " 'si': 15,\n",
       " 'se': 16,\n",
       " 'um': 17,\n",
       " 'são': 18,\n",
       " 'todas': 19,\n",
       " 'considerando': 20,\n",
       " 'unidade': 21,\n",
       " 'unificadora': 22,\n",
       " 'não': 23,\n",
       " 'frases': 24,\n",
       " 'de': 25,\n",
       " 'garante': 26,\n",
       " 'os': 27,\n",
       " 'while': 28,\n",
       " 'tópico': 29,\n",
       " 'declarações': 30,\n",
       " 'por': 31,\n",
       " 'que': 32,\n",
       " 'do': 33,\n",
       " 'mas': 34,\n",
       " 'ou': 35,\n",
       " 'frase': 36,\n",
       " 'às': 37,\n",
       " 'semelhantes': 38,\n",
       " 'mini': 39,\n",
       " 'sentenças': 40,\n",
       " 'relacionam': 41,\n",
       " 'é': 42,\n",
       " 'as': 43,\n",
       " 'o': 44,\n",
       " 'frasal': 45,\n",
       " 'como': 46}"
      ]
     },
     "execution_count": 11,
     "metadata": {},
     "output_type": "execute_result"
    }
   ],
   "source": [
    "index_dict"
   ]
  },
  {
   "cell_type": "code",
   "execution_count": 12,
   "metadata": {
    "pycharm": {
     "name": "#%%\n"
    }
   },
   "outputs": [],
   "source": [
    "word_count = tfidf.count_dict()"
   ]
  },
  {
   "cell_type": "code",
   "execution_count": 13,
   "metadata": {},
   "outputs": [
    {
     "data": {
      "text/plain": [
       "{'tem': 2,\n",
       " 'parágrafo': 2,\n",
       " 'ponto': 2,\n",
       " 'declaração': 2,\n",
       " 'a': 3,\n",
       " 'tese': 3,\n",
       " 'só': 1,\n",
       " 'principal': 2,\n",
       " 'unificado': 1,\n",
       " 'todos': 1,\n",
       " 'com': 1,\n",
       " 'ensaio': 2,\n",
       " 'função': 1,\n",
       " 'parágrafos': 1,\n",
       " 'uma': 2,\n",
       " 'si': 1,\n",
       " 'se': 1,\n",
       " 'um': 3,\n",
       " 'são': 1,\n",
       " 'todas': 1,\n",
       " 'considerando': 1,\n",
       " 'unidade': 1,\n",
       " 'unificadora': 1,\n",
       " 'não': 1,\n",
       " 'frases': 1,\n",
       " 'de': 2,\n",
       " 'garante': 1,\n",
       " 'os': 1,\n",
       " 'while': 1,\n",
       " 'tópico': 3,\n",
       " 'declarações': 1,\n",
       " 'por': 1,\n",
       " 'que': 1,\n",
       " 'do': 2,\n",
       " 'mas': 1,\n",
       " 'ou': 1,\n",
       " 'frase': 1,\n",
       " 'às': 1,\n",
       " 'semelhantes': 1,\n",
       " 'mini': 1,\n",
       " 'sentenças': 1,\n",
       " 'relacionam': 1,\n",
       " 'é': 3,\n",
       " 'as': 2,\n",
       " 'o': 3,\n",
       " 'frasal': 3,\n",
       " 'como': 2}"
      ]
     },
     "execution_count": 13,
     "metadata": {},
     "output_type": "execute_result"
    }
   ],
   "source": [
    "word_count"
   ]
  },
  {
   "cell_type": "code",
   "execution_count": 14,
   "metadata": {
    "pycharm": {
     "name": "#%%\n"
    }
   },
   "outputs": [
    {
     "name": "stdout",
     "output_type": "stream",
     "text": [
      "[nltk_data] Downloading package stopwords to\n",
      "[nltk_data]     C:\\Users\\Felype\\AppData\\Roaming\\nltk_data...\n",
      "[nltk_data]   Package stopwords is already up-to-date!\n"
     ]
    },
    {
     "data": {
      "text/plain": [
       "True"
      ]
     },
     "execution_count": 14,
     "metadata": {},
     "output_type": "execute_result"
    }
   ],
   "source": [
    "nltk.download('stopwords')"
   ]
  },
  {
   "cell_type": "code",
   "execution_count": 15,
   "metadata": {
    "pycharm": {
     "name": "#%%\n"
    }
   },
   "outputs": [],
   "source": [
    "import numpy as np"
   ]
  },
  {
   "cell_type": "code",
   "execution_count": 16,
   "metadata": {},
   "outputs": [
    {
     "name": "stdout",
     "output_type": "stream",
     "text": [
      "['as', 'frases', 'de', 'tópico', 'são', 'semelhantes', 'às', 'declarações', 'de', 'mini', 'tese', 'como', 'uma', 'declaração', 'de', 'tese', 'um', 'tópico', 'frasal', 'tem', 'um', 'ponto', 'principal', 'considerando', 'que', 'a', 'tese', 'é', 'o', 'ponto', 'principal', 'do', 'ensaio']\n",
      "['o', 'tópico', 'frasal', 'é', 'o', 'ponto', 'principal', 'do', 'parágrafo', 'como', 'a', 'declaração', 'de', 'tese', 'um', 'tópico', 'frasal', 'tem', 'uma', 'função', 'unificadora', 'mas', 'uma', 'declaração', 'de', 'tese', 'ou', 'frase', 'de', 'tópico', 'por', 'si', 'só', 'não', 'garante', 'unidade']\n",
      "['um', 'ensaio', 'é', 'unificado', 'se', 'todos', 'os', 'parágrafos', 'se', 'relacionam', 'com', 'a', 'tese', 'um', 'parágrafo', 'é', 'unificado', 'se', 'todas', 'as', 'sentenças', 'se', 'relacionam', 'com', 'o', 'tópico', 'frasal', 'while']\n"
     ]
    }
   ],
   "source": [
    "for word in tfidf.sentences:\n",
    "    print(word)"
   ]
  },
  {
   "cell_type": "code",
   "execution_count": 17,
   "metadata": {
    "pycharm": {
     "name": "#%%\n"
    }
   },
   "outputs": [],
   "source": [
    "vectors = tfidf.tf_idf()"
   ]
  },
  {
   "cell_type": "code",
   "execution_count": 18,
   "metadata": {
    "pycharm": {
     "name": "#%%\n"
    }
   },
   "outputs": [
    {
     "data": {
      "text/plain": [
       "array([ 0.        ,  0.        ,  0.        ,  0.        , -0.00889738,\n",
       "       -0.01779477,  0.00418005,  0.        ,  0.00836011,  0.00418005,\n",
       "        0.00836011,  0.        ,  0.00418005,  0.00418005,  0.        ,\n",
       "        0.00418005,  0.01672021, -0.01482897,  0.00418005,  0.00418005,\n",
       "        0.00418005,  0.00418005,  0.00418005,  0.00418005,  0.00418005,\n",
       "        0.        ,  0.00418005,  0.00418005,  0.00418005, -0.01779477,\n",
       "        0.00418005,  0.00418005,  0.00418005,  0.        ,  0.00418005,\n",
       "        0.00418005,  0.00418005,  0.00418005,  0.00418005,  0.00418005,\n",
       "        0.00418005,  0.00836011, -0.01186318,  0.        , -0.01186318,\n",
       "       -0.01186318,  0.        ])"
      ]
     },
     "execution_count": 18,
     "metadata": {},
     "output_type": "execute_result"
    }
   ],
   "source": [
    "vectors"
   ]
  },
  {
   "cell_type": "code",
   "execution_count": 19,
   "metadata": {
    "pycharm": {
     "name": "#%%\n"
    }
   },
   "outputs": [
    {
     "data": {
      "text/plain": [
       "47"
      ]
     },
     "execution_count": 19,
     "metadata": {},
     "output_type": "execute_result"
    }
   ],
   "source": [
    "len(vectors)"
   ]
  },
  {
   "cell_type": "code",
   "execution_count": 20,
   "metadata": {},
   "outputs": [
    {
     "data": {
      "text/plain": [
       "[(16, 'se', 0.016720210643635644),\n",
       " (8, 'unificado', 0.008360105321817822),\n",
       " (10, 'com', 0.008360105321817822),\n",
       " (41, 'relacionam', 0.008360105321817822),\n",
       " (6, 'só', 0.004180052660908911)]"
      ]
     },
     "execution_count": 20,
     "metadata": {},
     "output_type": "execute_result"
    }
   ],
   "source": [
    "n_largests2 = tfidf.select_n_largests(vectors=vectors)\n",
    "n_largests2"
   ]
  },
  {
   "cell_type": "markdown",
   "metadata": {},
   "source": [
    "**Lista de dicionários da forma: `[{'key': Tupla, 'neighbors': Lista[Tuplas]}]`**\n",
    "\n",
    "`key`: tuplas dos elementos com maiores tfidf\n",
    "\n",
    "`neighbors`: Lista de vizinhos mais próximos para cada `key`"
   ]
  },
  {
   "cell_type": "code",
   "execution_count": 22,
   "metadata": {},
   "outputs": [],
   "source": [
    "# pegando os vizinhos\n",
    "fulano = tfidf.get_closest_neighbors(vectors=vectors)\n",
    "\n",
    "# token principal 1\n",
    "everyone = fulano[0]['neighbors']\n",
    "key = fulano[0]['key'][1]\n",
    "# everyone.insert(0, fulano[0]['key'])\n",
    "token1_df = pd.DataFrame(everyone, columns=['node', 'token', 'tfidf'])\n",
    "for node in token1_df['node']:\n",
    "    token1_df.loc[token1_df['node'] == node, 'node'] = key\n",
    "\n",
    "# token principal 2\n",
    "everyone = fulano[1]['neighbors']\n",
    "# everyone.insert(0, fulano[1]['key'])\n",
    "token2_df = pd.DataFrame(everyone, columns=['node', 'token', 'tfidf'])\n",
    "for node in token2_df['node']:\n",
    "    token2_df.loc[token2_df['node'] == node, 'node'] = fulano[1]['key'][1]\n",
    "\n",
    "# token principal 3\n",
    "everyone = fulano[2]['neighbors']\n",
    "# everyone.insert(0, fulano[2]['key'])\n",
    "token3_df = pd.DataFrame(everyone, columns=['node', 'token', 'tfidf'])\n",
    "for node in token3_df['node']:\n",
    "    token3_df.loc[token3_df['node'] == node, 'node'] = fulano[2]['key'][1]\n",
    "\n",
    "# token principal 4\n",
    "everyone = fulano[3]['neighbors']\n",
    "# everyone.insert(0, fulano[3]['key'])\n",
    "token4_df = pd.DataFrame(everyone, columns=['node', 'token', 'tfidf'])\n",
    "for node in token4_df['node']:\n",
    "    token4_df.loc[token4_df['node'] == node, 'node'] = fulano[3]['key'][1]\n",
    "\n",
    "# token principal 5\n",
    "everyone = fulano[4]['neighbors']\n",
    "# everyone.insert(0, fulano[4]['key'])\n",
    "token5_df = pd.DataFrame(everyone, columns=['node', 'token', 'tfidf'])\n",
    "for node in token5_df['node']:\n",
    "    token5_df.loc[token5_df['node'] == node, 'node'] = fulano[4]['key'][1]\n",
    "\n",
    "# concatenando todos os dfs\n",
    "dfs = pd.concat([\n",
    "    token1_df.sort_values(by='tfidf', ascending=False), \n",
    "    token2_df.sort_values(by='tfidf', ascending=False), \n",
    "    token3_df.sort_values(by='tfidf', ascending=False),\n",
    "    token4_df.sort_values(by='tfidf', ascending=False), \n",
    "    token5_df.sort_values(by='tfidf', ascending=False)\n",
    "])\n"
   ]
  },
  {
   "cell_type": "code",
   "execution_count": 23,
   "metadata": {},
   "outputs": [
    {
     "data": {
      "text/html": [
       "<div>\n",
       "<style scoped>\n",
       "    .dataframe tbody tr th:only-of-type {\n",
       "        vertical-align: middle;\n",
       "    }\n",
       "\n",
       "    .dataframe tbody tr th {\n",
       "        vertical-align: top;\n",
       "    }\n",
       "\n",
       "    .dataframe thead th {\n",
       "        text-align: right;\n",
       "    }\n",
       "</style>\n",
       "<table border=\"1\" class=\"dataframe\">\n",
       "  <thead>\n",
       "    <tr style=\"text-align: right;\">\n",
       "      <th></th>\n",
       "      <th>duplicated</th>\n",
       "      <th>tfidf mean</th>\n",
       "    </tr>\n",
       "  </thead>\n",
       "  <tbody>\n",
       "    <tr>\n",
       "      <th>0</th>\n",
       "      <td>unificado</td>\n",
       "      <td>0.0</td>\n",
       "    </tr>\n",
       "    <tr>\n",
       "      <th>1</th>\n",
       "      <td>com</td>\n",
       "      <td>0.0</td>\n",
       "    </tr>\n",
       "    <tr>\n",
       "      <th>2</th>\n",
       "      <td>só</td>\n",
       "      <td>0.0</td>\n",
       "    </tr>\n",
       "    <tr>\n",
       "      <th>3</th>\n",
       "      <td>todos</td>\n",
       "      <td>0.0</td>\n",
       "    </tr>\n",
       "    <tr>\n",
       "      <th>4</th>\n",
       "      <td>principal</td>\n",
       "      <td>0.0</td>\n",
       "    </tr>\n",
       "  </tbody>\n",
       "</table>\n",
       "</div>"
      ],
      "text/plain": [
       "  duplicated  tfidf mean\n",
       "0  unificado         0.0\n",
       "1        com         0.0\n",
       "2         só         0.0\n",
       "3      todos         0.0\n",
       "4  principal         0.0"
      ]
     },
     "execution_count": 23,
     "metadata": {},
     "output_type": "execute_result"
    }
   ],
   "source": [
    "# # identificando as palavras duplicadas\n",
    "words = dfs['token']\n",
    "duplicated = (dfs[words.isin(words[words.duplicated()])]['token'])\n",
    "duplicated = list(dict.fromkeys(duplicated))\n",
    "tfidf_mean = np.zeros(len(duplicated))\n",
    "duplicated_tfidf_df = pd.DataFrame(list(zip(duplicated, tfidf_mean)), \n",
    "columns=['duplicated', 'tfidf mean'])\n",
    "duplicated_tfidf_df"
   ]
  },
  {
   "cell_type": "code",
   "execution_count": 24,
   "metadata": {},
   "outputs": [
    {
     "data": {
      "text/html": [
       "<div>\n",
       "<style scoped>\n",
       "    .dataframe tbody tr th:only-of-type {\n",
       "        vertical-align: middle;\n",
       "    }\n",
       "\n",
       "    .dataframe tbody tr th {\n",
       "        vertical-align: top;\n",
       "    }\n",
       "\n",
       "    .dataframe thead th {\n",
       "        text-align: right;\n",
       "    }\n",
       "</style>\n",
       "<table border=\"1\" class=\"dataframe\">\n",
       "  <thead>\n",
       "    <tr style=\"text-align: right;\">\n",
       "      <th></th>\n",
       "      <th>duplicated</th>\n",
       "      <th>tfidf mean</th>\n",
       "    </tr>\n",
       "  </thead>\n",
       "  <tbody>\n",
       "    <tr>\n",
       "      <th>0</th>\n",
       "      <td>unificado</td>\n",
       "      <td>0.00836</td>\n",
       "    </tr>\n",
       "    <tr>\n",
       "      <th>1</th>\n",
       "      <td>com</td>\n",
       "      <td>0.00836</td>\n",
       "    </tr>\n",
       "    <tr>\n",
       "      <th>2</th>\n",
       "      <td>só</td>\n",
       "      <td>0.00418</td>\n",
       "    </tr>\n",
       "    <tr>\n",
       "      <th>3</th>\n",
       "      <td>todos</td>\n",
       "      <td>0.00418</td>\n",
       "    </tr>\n",
       "    <tr>\n",
       "      <th>4</th>\n",
       "      <td>principal</td>\n",
       "      <td>0.00000</td>\n",
       "    </tr>\n",
       "  </tbody>\n",
       "</table>\n",
       "</div>"
      ],
      "text/plain": [
       "  duplicated  tfidf mean\n",
       "0  unificado     0.00836\n",
       "1        com     0.00836\n",
       "2         só     0.00418\n",
       "3      todos     0.00418\n",
       "4  principal     0.00000"
      ]
     },
     "execution_count": 24,
     "metadata": {},
     "output_type": "execute_result"
    }
   ],
   "source": [
    "# obtendo o tfidf médio das palavras duplicadas\n",
    "for word in duplicated:\n",
    "    duplicated_df = dfs[dfs['token'] == word]\n",
    "    duplicated_tfidf = duplicated_df['tfidf'].mean()\n",
    "    duplicated_tfidf_df.loc[duplicated_tfidf_df['duplicated'] == word, 'tfidf mean'] = duplicated_tfidf\n",
    "duplicated_tfidf_df"
   ]
  },
  {
   "cell_type": "code",
   "execution_count": 25,
   "metadata": {},
   "outputs": [],
   "source": [
    "import matplotlib.pyplot as plt\n",
    "import networkx as nx"
   ]
  },
  {
   "cell_type": "code",
   "execution_count": 26,
   "metadata": {},
   "outputs": [
    {
     "data": {
      "text/plain": [
       "NodeView(('se', 'si', 'são', 'uma', 'um', 'unificado', 'com', 'só', 'todos', 'principal', 'função', 'ensaio', 'relacionam', 'mini', 'sentenças', 'as', 'é', 'a', 'tese'))"
      ]
     },
     "execution_count": 26,
     "metadata": {},
     "output_type": "execute_result"
    }
   ],
   "source": [
    "# gerando o grafo\n",
    "graph = nx.from_pandas_edgelist(dfs, source='token', target='node')\n",
    "graph.nodes"
   ]
  },
  {
   "cell_type": "code",
   "execution_count": 29,
   "metadata": {},
   "outputs": [],
   "source": [
    "# copiando o dfs porém removendo a coluna nodes\n",
    "tfidf_list = dfs['tfidf']\n",
    "tfidf_df = dfs.drop(dfs.columns[0], axis=1, inplace=False)"
   ]
  },
  {
   "cell_type": "code",
   "execution_count": 30,
   "metadata": {},
   "outputs": [],
   "source": [
    "# removendo duplicadas\n",
    "tfidf_df = tfidf_df.drop_duplicates(subset=['token'], keep='first')"
   ]
  },
  {
   "cell_type": "code",
   "execution_count": 31,
   "metadata": {},
   "outputs": [],
   "source": [
    "# substituindo o tfidf das duplicadas pelo tfidf medio\n",
    "for i in range(len(duplicated_tfidf_df['duplicated'])):\n",
    "    key = duplicated_tfidf_df['duplicated'][i]\n",
    "    value = duplicated_tfidf_df['tfidf mean'][i]\n",
    "    tfidf_df.loc[tfidf_df['token'] == key, 'tfidf'] = value"
   ]
  },
  {
   "cell_type": "code",
   "execution_count": 32,
   "metadata": {},
   "outputs": [],
   "source": [
    "# obtendo a lista de tamanhos para os nós\n",
    "sizes = tfidf_df['tfidf']"
   ]
  },
  {
   "cell_type": "code",
   "execution_count": 33,
   "metadata": {},
   "outputs": [
    {
     "name": "stderr",
     "output_type": "stream",
     "text": [
      "c:\\Users\\Felype\\AppData\\Local\\Programs\\Python\\Python39\\lib\\site-packages\\matplotlib\\collections.py:981: RuntimeWarning: invalid value encountered in sqrt\n",
      "  scale = np.sqrt(self._sizes) * dpi / 72.0 * self._factor\n"
     ]
    },
    {
     "data": {
      "image/png": "[encoded data removed]",
      "text/plain": [
       "<Figure size 720x720 with 1 Axes>"
      ]
     },
     "metadata": {},
     "output_type": "display_data"
    }
   ],
   "source": [
    "# plotando o grafo\n",
    "plt.figure(figsize=(10,10))\n",
    "cmap = plt.cm.coolwarm\n",
    "colors = [n for n in range(len(graph.nodes()))]\n",
    "pos = nx.spring_layout(graph, k=.14)\n",
    "nx.draw_networkx(graph, pos, node_size = sizes.values*99999, cmap=cmap,\n",
    "node_color = colors, edge_color='grey', font_size=15, width=2, alpha=1)"
   ]
  }
 ],
 "metadata": {
  "interpreter": {
   "hash": "8282df32b6015734b0d20281e59fda015a81cec359aabc035ebd62105b90e8bb"
  },
  "kernelspec": {
   "display_name": "Python 3",
   "language": "python",
   "name": "python3"
  },
  "language_info": {
   "codemirror_mode": {
    "name": "ipython",
    "version": 3
   },
   "file_extension": ".py",
   "mimetype": "text/x-python",
   "name": "python",
   "nbconvert_exporter": "python",
   "pygments_lexer": "ipython3",
   "version": "3.9.6"
  }
 },
 "nbformat": 4,
 "nbformat_minor": 1
}
