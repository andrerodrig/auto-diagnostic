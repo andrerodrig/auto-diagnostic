{
 "cells": [
  {
   "cell_type": "code",
   "execution_count": 1,
   "metadata": {
    "pycharm": {
     "name": "#%%\n"
    }
   },
   "outputs": [
    {
     "name": "stderr",
     "output_type": "stream",
     "text": [
      "[nltk_data] Downloading package stopwords to E:\\nltk_data...\n",
      "[nltk_data]   Package stopwords is already up-to-date!\n"
     ]
    }
   ],
   "source": [
    "from auto_diagnostic.tfidf import TFIDF\n",
    "import nltk\n",
    "import pandas as pd\n",
    "\n",
    "# processando os dados\n",
    "tfidf = TFIDF(word_set=[], sentences=[])"
   ]
  },
  {
   "cell_type": "code",
   "execution_count": 3,
   "metadata": {
    "pycharm": {
     "name": "#%%\n"
    }
   },
   "outputs": [],
   "source": [
    "text = ['As frases de tópico são semelhantes às declarações de mini tese.\\\n",
    "        Como uma declaração de tese, um tópico frasal tem um \\\n",
    "        ponto principal. Considerando que a tese é o ponto principal do ensaio',\\\n",
    "        'o tópico frasal é o ponto principal do parágrafo.\\\n",
    "        Como a declaração de tese, um tópico frasal tem uma função unificadora. \\\n",
    "        Mas uma declaração de tese ou frase de tópico por si só não garante unidade.', \\\n",
    "        'Um ensaio é unificado se todos os parágrafos se relacionam com a tese,\\\n",
    "        um parágrafo é unificado se todas as sentenças se relacionam com o tópico frasal while.']"
   ]
  },
  {
   "cell_type": "code",
   "execution_count": 2,
   "outputs": [],
   "source": [
    "text = pd.read_csv(\"../data/processed/processed_data1.csv\")"
   ],
   "metadata": {
    "collapsed": false,
    "pycharm": {
     "name": "#%%\n"
    }
   }
  },
  {
   "cell_type": "code",
   "execution_count": 3,
   "outputs": [
    {
     "data": {
      "text/plain": "   txt_idx                                        text_column  \\\n0        0  o cancer de pulmao e a doenca maligna mais com...   \n1        1  embora haja relativamente poucos dados no bras...   \n2        2  nao ha dados exatos a respeito do numero de pr...   \n\n                                   txt_sem_stopwords  \n0  cancer pulmao doenca maligna comum todo mundo ...  \n1  embora relativamente poucos dados brasil respe...  \n2  nao ha dados exatos respeito numero procedimen...  ",
      "text/html": "<div>\n<style scoped>\n    .dataframe tbody tr th:only-of-type {\n        vertical-align: middle;\n    }\n\n    .dataframe tbody tr th {\n        vertical-align: top;\n    }\n\n    .dataframe thead th {\n        text-align: right;\n    }\n</style>\n<table border=\"1\" class=\"dataframe\">\n  <thead>\n    <tr style=\"text-align: right;\">\n      <th></th>\n      <th>txt_idx</th>\n      <th>text_column</th>\n      <th>txt_sem_stopwords</th>\n    </tr>\n  </thead>\n  <tbody>\n    <tr>\n      <th>0</th>\n      <td>0</td>\n      <td>o cancer de pulmao e a doenca maligna mais com...</td>\n      <td>cancer pulmao doenca maligna comum todo mundo ...</td>\n    </tr>\n    <tr>\n      <th>1</th>\n      <td>1</td>\n      <td>embora haja relativamente poucos dados no bras...</td>\n      <td>embora relativamente poucos dados brasil respe...</td>\n    </tr>\n    <tr>\n      <th>2</th>\n      <td>2</td>\n      <td>nao ha dados exatos a respeito do numero de pr...</td>\n      <td>nao ha dados exatos respeito numero procedimen...</td>\n    </tr>\n  </tbody>\n</table>\n</div>"
     },
     "execution_count": 3,
     "metadata": {},
     "output_type": "execute_result"
    }
   ],
   "source": [
    "text"
   ],
   "metadata": {
    "collapsed": false,
    "pycharm": {
     "name": "#%%\n"
    }
   }
  },
  {
   "cell_type": "code",
   "execution_count": 4,
   "metadata": {
    "pycharm": {
     "name": "#%%\n"
    }
   },
   "outputs": [
    {
     "name": "stdout",
     "output_type": "stream",
     "text": [
      "[nltk_data] Downloading package stopwords to\n",
      "[nltk_data]     C:\\Users\\Felype\\AppData\\Roaming\\nltk_data...\n",
      "[nltk_data]   Package stopwords is already up-to-date!\n"
     ]
    },
    {
     "data": {
      "text/plain": [
       "True"
      ]
     },
     "execution_count": 4,
     "metadata": {},
     "output_type": "execute_result"
    }
   ],
   "source": [
    "nltk.download('stopwords')"
   ]
  },
  {
   "cell_type": "code",
   "execution_count": 5,
   "metadata": {
    "pycharm": {
     "name": "#%%\n"
    }
   },
   "outputs": [],
   "source": [
    "#stopwords = nltk.corpus.stopwords.words('portuguese')"
   ]
  },
  {
   "cell_type": "code",
   "execution_count": 6,
   "metadata": {
    "pycharm": {
     "name": "#%%\n"
    }
   },
   "outputs": [
    {
     "data": {
      "text/plain": [
       "['de', 'a', 'o', 'que', 'e', 'é', 'do', 'da', 'em', 'um']"
      ]
     },
     "execution_count": 6,
     "metadata": {},
     "output_type": "execute_result"
    }
   ],
   "source": [
    "#stopwords[:10]"
   ]
  },
  {
   "cell_type": "code",
   "execution_count": 7,
   "metadata": {
    "pycharm": {
     "name": "#%%\n"
    }
   },
   "outputs": [],
   "source": [
    "#set_stopwords = set(stopwords)"
   ]
  },
  {
   "cell_type": "code",
   "execution_count": 4,
   "metadata": {
    "pycharm": {
     "name": "#%%\n"
    }
   },
   "outputs": [],
   "source": [
    "word_set = tfidf.get_wordset_from_text(text['txt_sem_stopwords'])"
   ]
  },
  {
   "cell_type": "code",
   "execution_count": 5,
   "outputs": [
    {
     "data": {
      "text/plain": "{'absoluto',\n 'acelerem',\n 'acesso',\n 'acordo',\n 'adenocarcinoma',\n 'adequado',\n 'adiante',\n 'ainda',\n 'ajustadas',\n 'alem',\n 'alertas',\n 'alguns',\n 'alteracoes',\n 'altos',\n 'amianto',\n 'analise',\n 'analisou',\n 'ano',\n 'anos',\n 'antitabaco',\n 'anualmente',\n 'apenas',\n 'apesar',\n 'aplicados',\n 'apos',\n 'apresenta',\n 'apresentam',\n 'apresentavam',\n 'aproximadamente',\n 'assim',\n 'ate',\n 'atingiu',\n 'atribuivel',\n 'atualmente',\n 'aumentaram',\n 'aumento',\n 'aumentou',\n 'avaliados',\n 'avancada',\n 'avancados',\n 'baixa',\n 'baixas',\n 'banco',\n 'brasil',\n 'brasileira',\n 'brasileiras',\n 'brasileiro',\n 'brutas',\n 'burden',\n 'cancer',\n 'carcinoma',\n 'carga',\n 'casos',\n 'causa',\n 'celulas',\n 'centro',\n 'cidades',\n 'cigarros',\n 'cirurgia',\n 'cirurgico',\n 'cirurgicos',\n 'cirurgioes',\n 'classificada',\n 'classificado',\n 'cobertura',\n 'cobre',\n 'coletados',\n 'combustao',\n 'comorbidades',\n 'componentes',\n 'comum',\n 'concentrados',\n 'conduzidos',\n 'consumo',\n 'continuam',\n 'contra',\n 'contrastam',\n 'controle',\n 'cpcnp',\n 'cpcp',\n 'crescendo',\n 'criancas',\n 'criterios',\n 'cronicas',\n 'cujos',\n 'curativa',\n 'curiosamente',\n 'dados',\n 'decada',\n 'decadas',\n 'densamente',\n 'departamento',\n 'desenvolvidos',\n 'desfechos',\n 'dessa',\n 'determinar',\n 'diagnosticado',\n 'diagnostico',\n 'dias',\n 'diferencas',\n 'diferentes',\n 'diferiram',\n 'diminuicao',\n 'diminuiram',\n 'discrepancia',\n 'discutido',\n 'disease',\n 'disponibilidade',\n 'disseminacao',\n 'disseram',\n 'disso',\n 'distribuicao',\n 'diversas',\n 'dividido',\n 'doenca',\n 'doencas',\n 'dois',\n 'domicilio',\n 'duas',\n 'durante',\n 'economica',\n 'eficacia',\n 'elegibilidade',\n 'embalagens',\n 'embora',\n 'ensaio',\n 'entanto',\n 'epidemiologico',\n 'escamosas',\n 'escolaridade',\n 'espera',\n 'estadiamento',\n 'estado',\n 'estados',\n 'estagio',\n 'estagios',\n 'estao',\n 'estima',\n 'estimou',\n 'estudo',\n 'estudos',\n 'etnias',\n 'eua',\n 'evidente',\n 'exame',\n 'exato',\n 'exatos',\n 'exemplo',\n 'existem',\n 'exposicao',\n 'fardo',\n 'fatores',\n 'figura',\n 'fim',\n 'fortes',\n 'fracao',\n 'fumaca',\n 'fumantes',\n 'geografica',\n 'geral',\n 'geralmente',\n 'globais',\n 'global',\n 'grande',\n 'grandes',\n 'ha',\n 'habitantes',\n 'histologia',\n 'histologico',\n 'histologicos',\n 'homens',\n 'i',\n 'idade',\n 'idades',\n 'igual',\n 'iii',\n 'importante',\n 'impostos',\n 'inca',\n 'incidencia',\n 'incluiram',\n 'indicam',\n 'influenciado',\n 'informatica',\n 'instituicao',\n 'instituicoes',\n 'instituto',\n 'intencao',\n 'internacionais',\n 'iv',\n 'janeiro',\n 'jovem',\n 'julho',\n 'lenha',\n 'lobectomia',\n 'lobectomias',\n 'locais',\n 'local',\n 'localmente',\n 'magnitude',\n 'maior',\n 'maiores',\n 'maioria',\n 'mal',\n 'maligna',\n 'maximo',\n 'media',\n 'mediana',\n 'medio',\n 'melhorar',\n 'menor',\n 'mesmos',\n 'metastatica',\n 'milhao',\n 'milhoes',\n 'modelo',\n 'mortalidade',\n 'mortes',\n 'mostram',\n 'mostraram',\n 'motivo',\n 'mulheres',\n 'mundo',\n 'nacionais',\n 'nacional',\n 'nao',\n 'neoplasia',\n 'nordeste',\n 'norte',\n 'novas',\n 'novos',\n 'numero',\n 'numeros',\n 'observou',\n 'ocorre',\n 'ocorrido',\n 'of',\n 'ofereceram',\n 'oncologico',\n 'outros',\n 'paciente',\n 'pacientes',\n 'padronizada',\n 'padronizadas',\n 'pais',\n 'paises',\n 'papel',\n 'parece',\n 'participantes',\n 'participar',\n 'passo',\n 'paulo',\n 'pequena',\n 'pequenas',\n 'performance',\n 'periodo',\n 'periodos',\n 'pesquisa',\n 'pesquisas',\n 'pode',\n 'politicas',\n 'ponto',\n 'populacao',\n 'porcentagens',\n 'portanto',\n 'possibilidade',\n 'possivel',\n 'pouco',\n 'poucos',\n 'povoadas',\n 'predomina',\n 'preocupacao',\n 'presenca',\n 'presente',\n 'prevalencia',\n 'prevalente',\n 'primaria',\n 'principais',\n 'principal',\n 'privada',\n 'privadas',\n 'privado',\n 'probabilidade',\n 'procedimentos',\n 'processo',\n 'produtos',\n 'proibicao',\n 'promovida',\n 'proporcao',\n 'protecao',\n 'provavelmente',\n 'proveniente',\n 'provenientes',\n 'publica',\n 'publicadas',\n 'publicados',\n 'publico',\n 'publicos',\n 'pulmao',\n 'pulmonar',\n 'pulmonares',\n 'quais',\n 'qualidade',\n 'quarto',\n 'queda',\n 'questionavel',\n 'racas',\n 'radonio',\n 'rapidamente',\n 'rastreamento',\n 'realizacao',\n 'realizadas',\n 'realizado',\n 'realizados',\n 'receberam',\n 'recursos',\n 'reducao',\n 'referentes',\n 'refletem',\n 'reforcar',\n 'regioes',\n 'registrados',\n 'reino',\n 'relacionada',\n 'relacionadas',\n 'relacionado',\n 'relatados',\n 'relativamente',\n 'relativo',\n 'relevantes',\n 'renda',\n 'respectivamente',\n 'respeito',\n 'restrito',\n 'resultaram',\n 'retrospectivas',\n 'revelaram',\n 'rio',\n 'risco',\n 'robotica',\n 'rotulos',\n 'sao',\n 'saude',\n 'secretaria',\n 'segmentectomias',\n 'segundo',\n 'semelhante',\n 'ser',\n 'sera',\n 'series',\n 'servicos',\n 'servidas',\n 'servir',\n 'sexos',\n 'sido',\n 'significativa',\n 'significativas',\n 'significativo',\n 'sistema',\n 'sobre',\n 'sobrevida',\n 'sociedade',\n 'socioeconomicas',\n 'status',\n 'study',\n 'subgrupos',\n 'submetida',\n 'submetidos',\n 'sudeste',\n 'sugerem',\n 'sul',\n 'superior',\n 'sus',\n 'tabaco',\n 'tabagismo',\n 'tais',\n 'tamanho',\n 'tambem',\n 'tanto',\n 'taxa',\n 'taxas',\n 'tecnicas',\n 'telefone',\n 'tendencia',\n 'tendencias',\n 'tipo',\n 'tipos',\n 'tocante',\n 'todas',\n 'todo',\n 'todos',\n 'toracica',\n 'toracicos',\n 'total',\n 'trabalhavam',\n 'tratamento',\n 'tratar',\n 'ultimos',\n 'unica',\n 'unido',\n 'uso',\n 'variam',\n 'varias',\n 'videoassistida',\n 'vigilancia',\n 'virtude',\n 'voluntarios',\n 'vs'}"
     },
     "execution_count": 5,
     "metadata": {},
     "output_type": "execute_result"
    }
   ],
   "source": [
    "word_set"
   ],
   "metadata": {
    "collapsed": false,
    "pycharm": {
     "name": "#%%\n"
    }
   }
  },
  {
   "cell_type": "code",
   "execution_count": 9,
   "metadata": {
    "pycharm": {
     "name": "#%%\n"
    }
   },
   "outputs": [],
   "source": [
    "# total_documents = len(tfidf.sentences)\n",
    "# total_documents"
   ]
  },
  {
   "cell_type": "code",
   "execution_count": 6,
   "metadata": {
    "pycharm": {
     "name": "#%%\n"
    }
   },
   "outputs": [],
   "source": [
    "index_dict = tfidf.get_wordset_index_dict()"
   ]
  },
  {
   "cell_type": "code",
   "execution_count": 7,
   "metadata": {
    "pycharm": {
     "name": "#%%\n"
    }
   },
   "outputs": [
    {
     "data": {
      "text/plain": "{'discrepancia': 0,\n 'significativas': 1,\n 'dois': 2,\n 'paises': 3,\n 'tipo': 4,\n 'existem': 5,\n 'registrados': 6,\n 'densamente': 7,\n 'reforcar': 8,\n 'poucos': 9,\n 'privadas': 10,\n 'retrospectivas': 11,\n 'toracicos': 12,\n 'criterios': 13,\n 'alguns': 14,\n 'primaria': 15,\n 'sul': 16,\n 'pulmonar': 17,\n 'sera': 18,\n 'anualmente': 19,\n 'disseram': 20,\n 'diferentes': 21,\n 'quais': 22,\n 'videoassistida': 23,\n 'entanto': 24,\n 'tabaco': 25,\n 'cronicas': 26,\n 'brasil': 27,\n 'instituicao': 28,\n 'escolaridade': 29,\n 'uso': 30,\n 'neoplasia': 31,\n 'causa': 32,\n 'acelerem': 33,\n 'domicilio': 34,\n 'sudeste': 35,\n 'tabagismo': 36,\n 'periodos': 37,\n 'contrastam': 38,\n 'dessa': 39,\n 'escamosas': 40,\n 'publicados': 41,\n 'sociedade': 42,\n 'curativa': 43,\n 'tratamento': 44,\n 'sobre': 45,\n 'milhao': 46,\n 'classificado': 47,\n 'submetidos': 48,\n 'tocante': 49,\n 'combustao': 50,\n 'paulo': 51,\n 'avancados': 52,\n 'povoadas': 53,\n 'cpcp': 54,\n 'atingiu': 55,\n 'secretaria': 56,\n 'incidencia': 57,\n 'homens': 58,\n 'queda': 59,\n 'regioes': 60,\n 'eua': 61,\n 'padronizadas': 62,\n 'analisou': 63,\n 'continuam': 64,\n 'indicam': 65,\n 'passo': 66,\n 'status': 67,\n 'relacionada': 68,\n 'todas': 69,\n 'estimou': 70,\n 'incluiram': 71,\n 'virtude': 72,\n 'epidemiologico': 73,\n 'estudo': 74,\n 'ultimos': 75,\n 'servidas': 76,\n 'pacientes': 77,\n 'ponto': 78,\n 'locais': 79,\n 'oncologico': 80,\n 'ajustadas': 81,\n 'aproximadamente': 82,\n 'radonio': 83,\n 'absoluto': 84,\n 'mulheres': 85,\n 'controle': 86,\n 'dados': 87,\n 'quarto': 88,\n 'comorbidades': 89,\n 'referentes': 90,\n 'outros': 91,\n 'mostraram': 92,\n 'decada': 93,\n 'ate': 94,\n 'lobectomias': 95,\n 'melhorar': 96,\n 'produtos': 97,\n 'socioeconomicas': 98,\n 'apresenta': 99,\n 'provenientes': 100,\n 'departamento': 101,\n 'respectivamente': 102,\n 'politicas': 103,\n 'estadiamento': 104,\n 'alertas': 105,\n 'dividido': 106,\n 'privado': 107,\n 'aplicados': 108,\n 'anos': 109,\n 'racas': 110,\n 'taxa': 111,\n 'global': 112,\n 'provavelmente': 113,\n 'cirurgico': 114,\n 'geografica': 115,\n 'julho': 116,\n 'proveniente': 117,\n 'alteracoes': 118,\n 'diversas': 119,\n 'pequenas': 120,\n 'sido': 121,\n 'publicos': 122,\n 'exato': 123,\n 'tecnicas': 124,\n 'nacionais': 125,\n 'todo': 126,\n 'unica': 127,\n 'variam': 128,\n 'alem': 129,\n 'reducao': 130,\n 'ocorre': 131,\n 'revelaram': 132,\n 'of': 133,\n 'realizadas': 134,\n 'maior': 135,\n 'etnias': 136,\n 'rastreamento': 137,\n 'curiosamente': 138,\n 'atualmente': 139,\n 'adenocarcinoma': 140,\n 'unido': 141,\n 'histologico': 142,\n 'tendencia': 143,\n 'cpcnp': 144,\n 'centro': 145,\n 'aumento': 146,\n 'motivo': 147,\n 'banco': 148,\n 'geral': 149,\n 'servir': 150,\n 'apos': 151,\n 'superior': 152,\n 'total': 153,\n 'criancas': 154,\n 'ensaio': 155,\n 'pode': 156,\n 'cirurgia': 157,\n 'ha': 158,\n 'maximo': 159,\n 'i': 160,\n 'mortes': 161,\n 'dias': 162,\n 'vs': 163,\n 'cobertura': 164,\n 'populacao': 165,\n 'eficacia': 166,\n 'submetida': 167,\n 'apresentam': 168,\n 'tipos': 169,\n 'histologicos': 170,\n 'distribuicao': 171,\n 'doencas': 172,\n 'baixa': 173,\n 'maligna': 174,\n 'tendencias': 175,\n 'sobrevida': 176,\n 'observou': 177,\n 'cujos': 178,\n 'predomina': 179,\n 'cidades': 180,\n 'exatos': 181,\n 'mal': 182,\n 'economica': 183,\n 'modelo': 184,\n 'privada': 185,\n 'sao': 186,\n 'proporcao': 187,\n 'diferiram': 188,\n 'pulmao': 189,\n 'estagio': 190,\n 'elegibilidade': 191,\n 'fracao': 192,\n 'crescendo': 193,\n 'jovem': 194,\n 'tambem': 195,\n 'importante': 196,\n 'estao': 197,\n 'nordeste': 198,\n 'portanto': 199,\n 'fim': 200,\n 'idade': 201,\n 'prevalencia': 202,\n 'realizado': 203,\n 'rapidamente': 204,\n 'amianto': 205,\n 'study': 206,\n 'influenciado': 207,\n 'qualidade': 208,\n 'instituto': 209,\n 'habitantes': 210,\n 'burden': 211,\n 'estudos': 212,\n 'possivel': 213,\n 'iv': 214,\n 'novas': 215,\n 'segundo': 216,\n 'nao': 217,\n 'consumo': 218,\n 'principais': 219,\n 'baixas': 220,\n 'fortes': 221,\n 'tais': 222,\n 'preocupacao': 223,\n 'diferencas': 224,\n 'subgrupos': 225,\n 'series': 226,\n 'pais': 227,\n 'componentes': 228,\n 'cirurgioes': 229,\n 'figura': 230,\n 'novos': 231,\n 'numero': 232,\n 'parece': 233,\n 'grande': 234,\n 'coletados': 235,\n 'relacionado': 236,\n 'sus': 237,\n 'diagnostico': 238,\n 'cancer': 239,\n 'apresentavam': 240,\n 'probabilidade': 241,\n 'voluntarios': 242,\n 'carcinoma': 243,\n 'robotica': 244,\n 'relevantes': 245,\n 'mesmos': 246,\n 'local': 247,\n 'determinar': 248,\n 'disponibilidade': 249,\n 'mortalidade': 250,\n 'significativa': 251,\n 'participar': 252,\n 'resultaram': 253,\n 'globais': 254,\n 'rio': 255,\n 'principal': 256,\n 'proibicao': 257,\n 'iii': 258,\n 'acesso': 259,\n 'avaliados': 260,\n 'exposicao': 261,\n 'avancada': 262,\n 'tanto': 263,\n 'publicadas': 264,\n 'ano': 265,\n 'assim': 266,\n 'histologia': 267,\n 'maioria': 268,\n 'adiante': 269,\n 'carga': 270,\n 'apenas': 271,\n 'diagnosticado': 272,\n 'mostram': 273,\n 'questionavel': 274,\n 'periodo': 275,\n 'menor': 276,\n 'risco': 277,\n 'semelhante': 278,\n 'rotulos': 279,\n 'exemplo': 280,\n 'prevalente': 281,\n 'procedimentos': 282,\n 'ainda': 283,\n 'estima': 284,\n 'adequado': 285,\n 'maiores': 286,\n 'recursos': 287,\n 'presente': 288,\n 'magnitude': 289,\n 'restrito': 290,\n 'pouco': 291,\n 'idades': 292,\n 'inca': 293,\n 'saude': 294,\n 'lobectomia': 295,\n 'pequena': 296,\n 'estado': 297,\n 'publico': 298,\n 'doenca': 299,\n 'igual': 300,\n 'paciente': 301,\n 'diminuiram': 302,\n 'todos': 303,\n 'decadas': 304,\n 'tamanho': 305,\n 'mediana': 306,\n 'sugerem': 307,\n 'internacionais': 308,\n 'janeiro': 309,\n 'pesquisa': 310,\n 'cirurgicos': 311,\n 'intencao': 312,\n 'brasileiras': 313,\n 'toracica': 314,\n 'atribuivel': 315,\n 'cobre': 316,\n 'informatica': 317,\n 'diminuicao': 318,\n 'espera': 319,\n 'metastatica': 320,\n 'pulmonares': 321,\n 'instituicoes': 322,\n 'brasileira': 323,\n 'realizados': 324,\n 'geralmente': 325,\n 'casos': 326,\n 'grandes': 327,\n 'telefone': 328,\n 'nacional': 329,\n 'aumentou': 330,\n 'processo': 331,\n 'desfechos': 332,\n 'publica': 333,\n 'comum': 334,\n 'durante': 335,\n 'renda': 336,\n 'conduzidos': 337,\n 'relativo': 338,\n 'taxas': 339,\n 'evidente': 340,\n 'sistema': 341,\n 'disease': 342,\n 'estados': 343,\n 'protecao': 344,\n 'embora': 345,\n 'ofereceram': 346,\n 'segmentectomias': 347,\n 'respeito': 348,\n 'performance': 349,\n 'presenca': 350,\n 'concentrados': 351,\n 'tratar': 352,\n 'trabalhavam': 353,\n 'possibilidade': 354,\n 'numeros': 355,\n 'receberam': 356,\n 'impostos': 357,\n 'apesar': 358,\n 'norte': 359,\n 'milhoes': 360,\n 'celulas': 361,\n 'fumaca': 362,\n 'brutas': 363,\n 'contra': 364,\n 'varias': 365,\n 'padronizada': 366,\n 'significativo': 367,\n 'localmente': 368,\n 'exame': 369,\n 'fumantes': 370,\n 'promovida': 371,\n 'reino': 372,\n 'antitabaco': 373,\n 'relativamente': 374,\n 'embalagens': 375,\n 'desenvolvidos': 376,\n 'disseminacao': 377,\n 'participantes': 378,\n 'discutido': 379,\n 'mundo': 380,\n 'analise': 381,\n 'ocorrido': 382,\n 'relacionadas': 383,\n 'realizacao': 384,\n 'ser': 385,\n 'brasileiro': 386,\n 'servicos': 387,\n 'porcentagens': 388,\n 'estagios': 389,\n 'media': 390,\n 'relatados': 391,\n 'classificada': 392,\n 'medio': 393,\n 'duas': 394,\n 'acordo': 395,\n 'aumentaram': 396,\n 'lenha': 397,\n 'sexos': 398,\n 'pesquisas': 399,\n 'cigarros': 400,\n 'fatores': 401,\n 'altos': 402,\n 'disso': 403,\n 'papel': 404,\n 'vigilancia': 405,\n 'fardo': 406,\n 'refletem': 407}"
     },
     "execution_count": 7,
     "metadata": {},
     "output_type": "execute_result"
    }
   ],
   "source": [
    "index_dict"
   ]
  },
  {
   "cell_type": "code",
   "execution_count": 8,
   "metadata": {
    "pycharm": {
     "name": "#%%\n"
    }
   },
   "outputs": [],
   "source": [
    "word_count = tfidf.count_dict()"
   ]
  },
  {
   "cell_type": "code",
   "execution_count": 9,
   "metadata": {
    "pycharm": {
     "name": "#%%\n"
    }
   },
   "outputs": [
    {
     "data": {
      "text/plain": "{'discrepancia': 1,\n 'significativas': 1,\n 'dois': 1,\n 'paises': 2,\n 'tipo': 1,\n 'existem': 1,\n 'registrados': 1,\n 'densamente': 1,\n 'reforcar': 1,\n 'poucos': 1,\n 'privadas': 1,\n 'retrospectivas': 1,\n 'toracicos': 1,\n 'criterios': 1,\n 'alguns': 1,\n 'primaria': 1,\n 'sul': 1,\n 'pulmonar': 1,\n 'sera': 1,\n 'anualmente': 1,\n 'disseram': 1,\n 'diferentes': 1,\n 'quais': 2,\n 'videoassistida': 1,\n 'entanto': 2,\n 'tabaco': 1,\n 'cronicas': 1,\n 'brasil': 3,\n 'instituicao': 1,\n 'escolaridade': 1,\n 'uso': 1,\n 'neoplasia': 1,\n 'causa': 1,\n 'acelerem': 1,\n 'domicilio': 1,\n 'sudeste': 1,\n 'tabagismo': 1,\n 'periodos': 1,\n 'contrastam': 1,\n 'dessa': 1,\n 'escamosas': 1,\n 'publicados': 1,\n 'sociedade': 1,\n 'curativa': 1,\n 'tratamento': 1,\n 'sobre': 1,\n 'milhao': 1,\n 'classificado': 1,\n 'submetidos': 1,\n 'tocante': 2,\n 'combustao': 1,\n 'paulo': 2,\n 'avancados': 1,\n 'povoadas': 1,\n 'cpcp': 1,\n 'atingiu': 1,\n 'secretaria': 1,\n 'incidencia': 1,\n 'homens': 1,\n 'queda': 1,\n 'regioes': 1,\n 'eua': 1,\n 'padronizadas': 1,\n 'analisou': 1,\n 'continuam': 1,\n 'indicam': 1,\n 'passo': 1,\n 'status': 1,\n 'relacionada': 1,\n 'todas': 2,\n 'estimou': 1,\n 'incluiram': 1,\n 'virtude': 2,\n 'epidemiologico': 2,\n 'estudo': 2,\n 'ultimos': 1,\n 'servidas': 1,\n 'pacientes': 2,\n 'ponto': 1,\n 'locais': 1,\n 'oncologico': 1,\n 'ajustadas': 1,\n 'aproximadamente': 3,\n 'radonio': 1,\n 'absoluto': 1,\n 'mulheres': 1,\n 'controle': 1,\n 'dados': 3,\n 'quarto': 1,\n 'comorbidades': 1,\n 'referentes': 1,\n 'outros': 1,\n 'mostraram': 1,\n 'decada': 2,\n 'ate': 1,\n 'lobectomias': 1,\n 'melhorar': 1,\n 'produtos': 1,\n 'socioeconomicas': 1,\n 'apresenta': 2,\n 'provenientes': 2,\n 'departamento': 1,\n 'respectivamente': 2,\n 'politicas': 1,\n 'estadiamento': 1,\n 'alertas': 1,\n 'dividido': 1,\n 'privado': 1,\n 'aplicados': 1,\n 'anos': 3,\n 'racas': 1,\n 'taxa': 2,\n 'global': 1,\n 'provavelmente': 2,\n 'cirurgico': 1,\n 'geografica': 1,\n 'julho': 1,\n 'proveniente': 1,\n 'alteracoes': 1,\n 'diversas': 1,\n 'pequenas': 1,\n 'sido': 1,\n 'publicos': 2,\n 'exato': 1,\n 'tecnicas': 1,\n 'nacionais': 1,\n 'todo': 1,\n 'unica': 1,\n 'variam': 1,\n 'alem': 1,\n 'reducao': 1,\n 'ocorre': 1,\n 'revelaram': 1,\n 'of': 1,\n 'realizadas': 1,\n 'maior': 2,\n 'etnias': 1,\n 'rastreamento': 1,\n 'curiosamente': 1,\n 'atualmente': 1,\n 'adenocarcinoma': 1,\n 'unido': 1,\n 'histologico': 1,\n 'tendencia': 1,\n 'cpcnp': 1,\n 'centro': 2,\n 'aumento': 1,\n 'motivo': 1,\n 'banco': 2,\n 'geral': 1,\n 'servir': 1,\n 'apos': 1,\n 'superior': 1,\n 'total': 1,\n 'criancas': 1,\n 'ensaio': 1,\n 'pode': 1,\n 'cirurgia': 1,\n 'ha': 2,\n 'maximo': 1,\n 'i': 1,\n 'mortes': 1,\n 'dias': 1,\n 'vs': 2,\n 'cobertura': 1,\n 'populacao': 2,\n 'eficacia': 1,\n 'submetida': 1,\n 'apresentam': 1,\n 'tipos': 1,\n 'histologicos': 1,\n 'distribuicao': 1,\n 'doencas': 2,\n 'baixa': 1,\n 'maligna': 1,\n 'tendencias': 1,\n 'sobrevida': 2,\n 'observou': 1,\n 'cujos': 1,\n 'predomina': 1,\n 'cidades': 2,\n 'exatos': 1,\n 'mal': 1,\n 'economica': 1,\n 'modelo': 1,\n 'privada': 1,\n 'sao': 3,\n 'proporcao': 2,\n 'diferiram': 1,\n 'pulmao': 3,\n 'estagio': 1,\n 'elegibilidade': 1,\n 'fracao': 1,\n 'crescendo': 1,\n 'jovem': 1,\n 'tambem': 1,\n 'importante': 1,\n 'estao': 1,\n 'nordeste': 1,\n 'portanto': 1,\n 'fim': 1,\n 'idade': 2,\n 'prevalencia': 2,\n 'realizado': 1,\n 'rapidamente': 1,\n 'amianto': 1,\n 'study': 1,\n 'influenciado': 1,\n 'qualidade': 1,\n 'instituto': 1,\n 'habitantes': 2,\n 'burden': 1,\n 'estudos': 1,\n 'possivel': 1,\n 'iv': 1,\n 'novas': 1,\n 'segundo': 2,\n 'nao': 3,\n 'consumo': 1,\n 'principais': 1,\n 'baixas': 1,\n 'fortes': 1,\n 'tais': 2,\n 'preocupacao': 1,\n 'diferencas': 2,\n 'subgrupos': 1,\n 'series': 2,\n 'pais': 3,\n 'componentes': 1,\n 'cirurgioes': 1,\n 'figura': 1,\n 'novos': 1,\n 'numero': 2,\n 'parece': 1,\n 'grande': 2,\n 'coletados': 1,\n 'relacionado': 1,\n 'sus': 1,\n 'diagnostico': 1,\n 'cancer': 3,\n 'apresentavam': 1,\n 'probabilidade': 1,\n 'voluntarios': 1,\n 'carcinoma': 1,\n 'robotica': 1,\n 'relevantes': 1,\n 'mesmos': 1,\n 'local': 1,\n 'determinar': 1,\n 'disponibilidade': 2,\n 'mortalidade': 2,\n 'significativa': 1,\n 'participar': 1,\n 'resultaram': 1,\n 'globais': 1,\n 'rio': 1,\n 'principal': 1,\n 'proibicao': 1,\n 'iii': 1,\n 'acesso': 1,\n 'avaliados': 1,\n 'exposicao': 1,\n 'avancada': 2,\n 'tanto': 1,\n 'publicadas': 2,\n 'ano': 1,\n 'assim': 1,\n 'histologia': 1,\n 'maioria': 2,\n 'adiante': 1,\n 'carga': 1,\n 'apenas': 2,\n 'diagnosticado': 1,\n 'mostram': 1,\n 'questionavel': 1,\n 'periodo': 1,\n 'menor': 1,\n 'risco': 1,\n 'semelhante': 2,\n 'rotulos': 1,\n 'exemplo': 1,\n 'prevalente': 1,\n 'procedimentos': 1,\n 'ainda': 1,\n 'estima': 1,\n 'adequado': 1,\n 'maiores': 1,\n 'recursos': 1,\n 'presente': 1,\n 'magnitude': 1,\n 'restrito': 1,\n 'pouco': 1,\n 'idades': 1,\n 'inca': 1,\n 'saude': 3,\n 'lobectomia': 1,\n 'pequena': 1,\n 'estado': 2,\n 'publico': 2,\n 'doenca': 2,\n 'igual': 1,\n 'paciente': 1,\n 'diminuiram': 2,\n 'todos': 1,\n 'decadas': 1,\n 'tamanho': 1,\n 'mediana': 1,\n 'sugerem': 1,\n 'internacionais': 1,\n 'janeiro': 1,\n 'pesquisa': 1,\n 'cirurgicos': 1,\n 'intencao': 1,\n 'brasileiras': 1,\n 'toracica': 1,\n 'atribuivel': 1,\n 'cobre': 1,\n 'informatica': 1,\n 'diminuicao': 1,\n 'espera': 1,\n 'metastatica': 1,\n 'pulmonares': 1,\n 'instituicoes': 1,\n 'brasileira': 1,\n 'realizados': 1,\n 'geralmente': 1,\n 'casos': 3,\n 'grandes': 1,\n 'telefone': 1,\n 'nacional': 2,\n 'aumentou': 1,\n 'processo': 1,\n 'desfechos': 2,\n 'publica': 1,\n 'comum': 1,\n 'durante': 1,\n 'renda': 1,\n 'conduzidos': 1,\n 'relativo': 1,\n 'taxas': 3,\n 'evidente': 1,\n 'sistema': 3,\n 'disease': 1,\n 'estados': 1,\n 'protecao': 1,\n 'embora': 1,\n 'ofereceram': 1,\n 'segmentectomias': 1,\n 'respeito': 3,\n 'performance': 1,\n 'presenca': 1,\n 'concentrados': 1,\n 'tratar': 1,\n 'trabalhavam': 1,\n 'possibilidade': 1,\n 'numeros': 1,\n 'receberam': 1,\n 'impostos': 1,\n 'apesar': 1,\n 'norte': 1,\n 'milhoes': 1,\n 'celulas': 1,\n 'fumaca': 1,\n 'brutas': 1,\n 'contra': 1,\n 'varias': 1,\n 'padronizada': 1,\n 'significativo': 1,\n 'localmente': 1,\n 'exame': 1,\n 'fumantes': 1,\n 'promovida': 1,\n 'reino': 1,\n 'antitabaco': 1,\n 'relativamente': 1,\n 'embalagens': 1,\n 'desenvolvidos': 1,\n 'disseminacao': 1,\n 'participantes': 2,\n 'discutido': 1,\n 'mundo': 1,\n 'analise': 1,\n 'ocorrido': 1,\n 'relacionadas': 1,\n 'realizacao': 1,\n 'ser': 2,\n 'brasileiro': 2,\n 'servicos': 1,\n 'porcentagens': 2,\n 'estagios': 1,\n 'media': 1,\n 'relatados': 2,\n 'classificada': 1,\n 'medio': 1,\n 'duas': 1,\n 'acordo': 3,\n 'aumentaram': 2,\n 'lenha': 1,\n 'sexos': 1,\n 'pesquisas': 1,\n 'cigarros': 1,\n 'fatores': 1,\n 'altos': 1,\n 'disso': 1,\n 'papel': 1,\n 'vigilancia': 1,\n 'fardo': 1,\n 'refletem': 1}"
     },
     "execution_count": 9,
     "metadata": {},
     "output_type": "execute_result"
    }
   ],
   "source": [
    "word_count"
   ]
  },
  {
   "cell_type": "code",
   "execution_count": 14,
   "metadata": {
    "pycharm": {
     "name": "#%%\n"
    }
   },
   "outputs": [
    {
     "name": "stdout",
     "output_type": "stream",
     "text": [
      "[nltk_data] Downloading package stopwords to\n",
      "[nltk_data]     C:\\Users\\Felype\\AppData\\Roaming\\nltk_data...\n",
      "[nltk_data]   Package stopwords is already up-to-date!\n"
     ]
    },
    {
     "data": {
      "text/plain": [
       "True"
      ]
     },
     "execution_count": 14,
     "metadata": {},
     "output_type": "execute_result"
    }
   ],
   "source": [
    "nltk.download('stopwords')"
   ]
  },
  {
   "cell_type": "code",
   "execution_count": 15,
   "metadata": {
    "pycharm": {
     "name": "#%%\n"
    }
   },
   "outputs": [],
   "source": [
    "import numpy as np"
   ]
  },
  {
   "cell_type": "code",
   "execution_count": 16,
   "metadata": {
    "pycharm": {
     "name": "#%%\n"
    }
   },
   "outputs": [
    {
     "name": "stdout",
     "output_type": "stream",
     "text": [
      "['as', 'frases', 'de', 'tópico', 'são', 'semelhantes', 'às', 'declarações', 'de', 'mini', 'tese', 'como', 'uma', 'declaração', 'de', 'tese', 'um', 'tópico', 'frasal', 'tem', 'um', 'ponto', 'principal', 'considerando', 'que', 'a', 'tese', 'é', 'o', 'ponto', 'principal', 'do', 'ensaio']\n",
      "['o', 'tópico', 'frasal', 'é', 'o', 'ponto', 'principal', 'do', 'parágrafo', 'como', 'a', 'declaração', 'de', 'tese', 'um', 'tópico', 'frasal', 'tem', 'uma', 'função', 'unificadora', 'mas', 'uma', 'declaração', 'de', 'tese', 'ou', 'frase', 'de', 'tópico', 'por', 'si', 'só', 'não', 'garante', 'unidade']\n",
      "['um', 'ensaio', 'é', 'unificado', 'se', 'todos', 'os', 'parágrafos', 'se', 'relacionam', 'com', 'a', 'tese', 'um', 'parágrafo', 'é', 'unificado', 'se', 'todas', 'as', 'sentenças', 'se', 'relacionam', 'com', 'o', 'tópico', 'frasal', 'while']\n"
     ]
    }
   ],
   "source": [
    "for word in tfidf.sentences:\n",
    "    print(word)"
   ]
  },
  {
   "cell_type": "code",
   "execution_count": 10,
   "metadata": {
    "pycharm": {
     "name": "#%%\n"
    }
   },
   "outputs": [],
   "source": [
    "vectors = tfidf.tf_idf()"
   ]
  },
  {
   "cell_type": "code",
   "execution_count": 11,
   "metadata": {
    "pycharm": {
     "name": "#%%\n"
    }
   },
   "outputs": [
    {
     "data": {
      "text/plain": "array([ 0.00099379,  0.00099379,  0.00099379,  0.        ,  0.00099379,\n        0.00099379,  0.00099379,  0.00099379,  0.00099379,  0.00099379,\n        0.00099379,  0.00099379,  0.00099379,  0.00099379,  0.00099379,\n        0.00099379,  0.00099379,  0.00099379,  0.00099379,  0.00099379,\n        0.00099379,  0.00099379,  0.        ,  0.00099379,  0.        ,\n        0.00099379,  0.00099379, -0.0007051 ,  0.00099379,  0.00099379,\n        0.00099379,  0.00099379,  0.00099379,  0.00099379,  0.00099379,\n        0.00099379,  0.00099379,  0.00099379,  0.00099379,  0.00099379,\n        0.00099379,  0.00099379,  0.00099379,  0.00099379,  0.00099379,\n        0.00099379,  0.00099379,  0.00099379,  0.00099379,  0.        ,\n        0.00099379,  0.        ,  0.00099379,  0.00099379,  0.00099379,\n        0.00099379,  0.00099379,  0.00099379,  0.00099379,  0.00099379,\n        0.00099379,  0.00099379,  0.00099379,  0.00099379,  0.00099379,\n        0.00099379,  0.00099379,  0.00099379,  0.00099379,  0.        ,\n        0.00099379,  0.00099379,  0.        ,  0.        ,  0.        ,\n        0.00099379,  0.00099379,  0.        ,  0.00099379,  0.00099379,\n        0.00099379,  0.00099379, -0.0007051 ,  0.00099379,  0.00099379,\n        0.00099379,  0.00099379, -0.0007051 ,  0.00099379,  0.00099379,\n        0.00099379,  0.00099379,  0.00099379,  0.        ,  0.00099379,\n        0.00099379,  0.00099379,  0.00099379,  0.00099379,  0.        ,\n        0.        ,  0.00099379,  0.        ,  0.00099379,  0.00099379,\n        0.00099379,  0.00099379,  0.00099379,  0.00099379, -0.0007051 ,\n        0.00099379,  0.        ,  0.00099379,  0.        ,  0.00099379,\n        0.00099379,  0.00099379,  0.00099379,  0.00099379,  0.00099379,\n        0.00099379,  0.00099379,  0.        ,  0.00099379,  0.00099379,\n        0.00099379,  0.00099379,  0.00099379,  0.00099379,  0.00099379,\n        0.00099379,  0.00099379,  0.00099379,  0.00099379,  0.00099379,\n        0.        ,  0.00099379,  0.00099379,  0.00099379,  0.00099379,\n        0.00099379,  0.00099379,  0.00099379,  0.00099379,  0.00099379,\n        0.        ,  0.00099379,  0.00099379,  0.        ,  0.00099379,\n        0.00099379,  0.00099379,  0.00099379,  0.00099379,  0.00099379,\n        0.00099379,  0.00099379,  0.00099379,  0.        ,  0.00099379,\n        0.00099379,  0.00099379,  0.00099379,  0.        ,  0.00099379,\n        0.        ,  0.00099379,  0.00099379,  0.00099379,  0.00099379,\n        0.00099379,  0.00099379,  0.        ,  0.00099379,  0.00099379,\n        0.00099379,  0.        ,  0.00099379,  0.00099379,  0.00099379,\n        0.        ,  0.00099379,  0.00099379,  0.00099379,  0.00099379,\n        0.00099379, -0.0007051 ,  0.        ,  0.00099379, -0.0007051 ,\n        0.00099379,  0.00099379,  0.00099379,  0.00099379,  0.00099379,\n        0.00099379,  0.00099379,  0.00099379,  0.00099379,  0.00099379,\n        0.00099379,  0.        ,  0.        ,  0.00099379,  0.00099379,\n        0.00099379,  0.00099379,  0.00099379,  0.00099379,  0.00099379,\n        0.        ,  0.00099379,  0.00099379,  0.00099379,  0.00099379,\n        0.00099379,  0.        , -0.0007051 ,  0.00099379,  0.00099379,\n        0.00099379,  0.00099379,  0.        ,  0.00099379,  0.        ,\n        0.00099379,  0.        , -0.0007051 ,  0.00099379,  0.00099379,\n        0.00099379,  0.00099379,  0.        ,  0.00099379,  0.        ,\n        0.00099379,  0.00099379,  0.00099379,  0.00099379, -0.0007051 ,\n        0.00099379,  0.00099379,  0.00099379,  0.00099379,  0.00099379,\n        0.00099379,  0.00099379,  0.00099379,  0.00099379,  0.        ,\n        0.        ,  0.00099379,  0.00099379,  0.00099379,  0.00099379,\n        0.00099379,  0.00099379,  0.00099379,  0.00099379,  0.00099379,\n        0.00099379,  0.00099379,  0.        ,  0.00099379,  0.        ,\n        0.00099379,  0.00099379,  0.00099379,  0.        ,  0.00099379,\n        0.00099379,  0.        ,  0.00099379,  0.00099379,  0.00099379,\n        0.00099379,  0.00099379,  0.00099379,  0.        ,  0.00099379,\n        0.00099379,  0.00099379,  0.00099379,  0.00099379,  0.00099379,\n        0.00099379,  0.00099379,  0.00099379,  0.00099379,  0.00099379,\n        0.00099379,  0.00099379,  0.00099379,  0.00099379, -0.0007051 ,\n        0.00099379,  0.00099379,  0.        ,  0.        ,  0.        ,\n        0.00099379,  0.00099379,  0.        ,  0.00099379,  0.00099379,\n        0.00099379,  0.00099379,  0.00099379,  0.00099379,  0.00099379,\n        0.00099379,  0.00099379,  0.00099379,  0.00099379,  0.00099379,\n        0.00099379,  0.00099379,  0.00099379,  0.00099379,  0.00099379,\n        0.00099379,  0.00099379,  0.00099379,  0.00099379,  0.00099379,\n        0.00099379, -0.0007051 ,  0.00099379,  0.00099379,  0.        ,\n        0.00099379,  0.00099379,  0.        ,  0.00099379,  0.00099379,\n        0.00099379,  0.00099379,  0.00099379,  0.00099379, -0.0007051 ,\n        0.00099379, -0.0007051 ,  0.00099379,  0.00099379,  0.00099379,\n        0.00099379,  0.00099379,  0.00099379, -0.0007051 ,  0.00099379,\n        0.00099379,  0.00099379,  0.00099379,  0.00099379,  0.00099379,\n        0.00099379,  0.00099379,  0.00099379,  0.00099379,  0.00099379,\n        0.00099379,  0.00099379,  0.00099379,  0.00099379,  0.00099379,\n        0.00099379,  0.00099379,  0.00099379,  0.00099379,  0.00099379,\n        0.00099379,  0.00099379,  0.00099379,  0.00099379,  0.00099379,\n        0.00099379,  0.00099379,  0.00099379,  0.        ,  0.00099379,\n        0.00099379,  0.00099379,  0.00099379,  0.00099379,  0.00099379,\n        0.        ,  0.        ,  0.00099379,  0.        ,  0.00099379,\n        0.00099379,  0.        ,  0.00099379,  0.00099379,  0.00099379,\n       -0.0007051 ,  0.        ,  0.00099379,  0.00099379,  0.00099379,\n        0.00099379,  0.00099379,  0.00099379,  0.00099379,  0.00099379,\n        0.00099379,  0.00099379,  0.00099379])"
     },
     "execution_count": 11,
     "metadata": {},
     "output_type": "execute_result"
    }
   ],
   "source": [
    "vectors"
   ]
  },
  {
   "cell_type": "code",
   "execution_count": 12,
   "metadata": {
    "pycharm": {
     "name": "#%%\n"
    }
   },
   "outputs": [
    {
     "data": {
      "text/plain": "408"
     },
     "execution_count": 12,
     "metadata": {},
     "output_type": "execute_result"
    }
   ],
   "source": [
    "len(vectors)"
   ]
  },
  {
   "cell_type": "code",
   "execution_count": 13,
   "metadata": {
    "pycharm": {
     "name": "#%%\n"
    }
   },
   "outputs": [
    {
     "data": {
      "text/plain": "[(0, 'discrepancia', 0.0009937870296768735),\n (1, 'significativas', 0.0009937870296768735),\n (2, 'dois', 0.0009937870296768735),\n (4, 'tipo', 0.0009937870296768735),\n (5, 'existem', 0.0009937870296768735)]"
     },
     "execution_count": 13,
     "metadata": {},
     "output_type": "execute_result"
    }
   ],
   "source": [
    "n_largests2 = tfidf.select_n_largests(vectors=vectors)\n",
    "n_largests2"
   ]
  },
  {
   "cell_type": "markdown",
   "metadata": {
    "pycharm": {
     "name": "#%% md\n"
    }
   },
   "source": [
    "**Lista de dicionários da forma: `[{'key': Tupla, 'neighbors': Lista[Tuplas]}]`**\n",
    "\n",
    "`key`: tuplas dos elementos com maiores tfidf\n",
    "\n",
    "`neighbors`: Lista de vizinhos mais próximos para cada `key`"
   ]
  },
  {
   "cell_type": "code",
   "execution_count": 14,
   "metadata": {
    "pycharm": {
     "name": "#%%\n"
    }
   },
   "outputs": [],
   "source": [
    "# pegando os vizinhos\n",
    "fulano = tfidf.get_closest_neighbors(vectors=vectors)\n",
    "\n",
    "# token principal 1\n",
    "everyone = fulano[0]['neighbors']\n",
    "key = fulano[0]['key'][1]\n",
    "# everyone.insert(0, fulano[0]['key'])\n",
    "token1_df = pd.DataFrame(everyone, columns=['node', 'token', 'tfidf'])\n",
    "for node in token1_df['node']:\n",
    "    token1_df.loc[token1_df['node'] == node, 'node'] = key\n",
    "\n",
    "# token principal 2\n",
    "everyone = fulano[1]['neighbors']\n",
    "# everyone.insert(0, fulano[1]['key'])\n",
    "token2_df = pd.DataFrame(everyone, columns=['node', 'token', 'tfidf'])\n",
    "for node in token2_df['node']:\n",
    "    token2_df.loc[token2_df['node'] == node, 'node'] = fulano[1]['key'][1]\n",
    "\n",
    "# token principal 3\n",
    "everyone = fulano[2]['neighbors']\n",
    "# everyone.insert(0, fulano[2]['key'])\n",
    "token3_df = pd.DataFrame(everyone, columns=['node', 'token', 'tfidf'])\n",
    "for node in token3_df['node']:\n",
    "    token3_df.loc[token3_df['node'] == node, 'node'] = fulano[2]['key'][1]\n",
    "\n",
    "# token principal 4\n",
    "everyone = fulano[3]['neighbors']\n",
    "# everyone.insert(0, fulano[3]['key'])\n",
    "token4_df = pd.DataFrame(everyone, columns=['node', 'token', 'tfidf'])\n",
    "for node in token4_df['node']:\n",
    "    token4_df.loc[token4_df['node'] == node, 'node'] = fulano[3]['key'][1]\n",
    "\n",
    "# token principal 5\n",
    "everyone = fulano[4]['neighbors']\n",
    "# everyone.insert(0, fulano[4]['key'])\n",
    "token5_df = pd.DataFrame(everyone, columns=['node', 'token', 'tfidf'])\n",
    "for node in token5_df['node']:\n",
    "    token5_df.loc[token5_df['node'] == node, 'node'] = fulano[4]['key'][1]\n",
    "\n",
    "# concatenando todos os dfs\n",
    "dfs = pd.concat([\n",
    "    token1_df.sort_values(by='tfidf', ascending=False), \n",
    "    token2_df.sort_values(by='tfidf', ascending=False), \n",
    "    token3_df.sort_values(by='tfidf', ascending=False),\n",
    "    token4_df.sort_values(by='tfidf', ascending=False), \n",
    "    token5_df.sort_values(by='tfidf', ascending=False)\n",
    "])\n"
   ]
  },
  {
   "cell_type": "code",
   "execution_count": 18,
   "outputs": [],
   "source": [
    "import numpy as np"
   ],
   "metadata": {
    "collapsed": false,
    "pycharm": {
     "name": "#%%\n"
    }
   }
  },
  {
   "cell_type": "code",
   "execution_count": 19,
   "metadata": {
    "pycharm": {
     "name": "#%%\n"
    }
   },
   "outputs": [
    {
     "data": {
      "text/plain": "       duplicated  tfidf mean\n0  significativas         0.0\n1            dois         0.0\n2    discrepancia         0.0\n3          paises         0.0\n4            tipo         0.0\n5     registrados         0.0",
      "text/html": "<div>\n<style scoped>\n    .dataframe tbody tr th:only-of-type {\n        vertical-align: middle;\n    }\n\n    .dataframe tbody tr th {\n        vertical-align: top;\n    }\n\n    .dataframe thead th {\n        text-align: right;\n    }\n</style>\n<table border=\"1\" class=\"dataframe\">\n  <thead>\n    <tr style=\"text-align: right;\">\n      <th></th>\n      <th>duplicated</th>\n      <th>tfidf mean</th>\n    </tr>\n  </thead>\n  <tbody>\n    <tr>\n      <th>0</th>\n      <td>significativas</td>\n      <td>0.0</td>\n    </tr>\n    <tr>\n      <th>1</th>\n      <td>dois</td>\n      <td>0.0</td>\n    </tr>\n    <tr>\n      <th>2</th>\n      <td>discrepancia</td>\n      <td>0.0</td>\n    </tr>\n    <tr>\n      <th>3</th>\n      <td>paises</td>\n      <td>0.0</td>\n    </tr>\n    <tr>\n      <th>4</th>\n      <td>tipo</td>\n      <td>0.0</td>\n    </tr>\n    <tr>\n      <th>5</th>\n      <td>registrados</td>\n      <td>0.0</td>\n    </tr>\n  </tbody>\n</table>\n</div>"
     },
     "execution_count": 19,
     "metadata": {},
     "output_type": "execute_result"
    }
   ],
   "source": [
    "# # identificando as palavras duplicadas\n",
    "words = dfs['token']\n",
    "duplicated = (dfs[words.isin(words[words.duplicated()])]['token'])\n",
    "duplicated = list(dict.fromkeys(duplicated))\n",
    "tfidf_mean = np.zeros(len(duplicated))\n",
    "duplicated_tfidf_df = pd.DataFrame(list(zip(duplicated, tfidf_mean)), \n",
    "columns=['duplicated', 'tfidf mean'])\n",
    "duplicated_tfidf_df"
   ]
  },
  {
   "cell_type": "code",
   "execution_count": 20,
   "metadata": {
    "pycharm": {
     "name": "#%%\n"
    }
   },
   "outputs": [
    {
     "data": {
      "text/plain": "       duplicated  tfidf mean\n0  significativas    0.000994\n1            dois    0.000994\n2    discrepancia    0.000994\n3          paises    0.000000\n4            tipo    0.000994\n5     registrados    0.000994",
      "text/html": "<div>\n<style scoped>\n    .dataframe tbody tr th:only-of-type {\n        vertical-align: middle;\n    }\n\n    .dataframe tbody tr th {\n        vertical-align: top;\n    }\n\n    .dataframe thead th {\n        text-align: right;\n    }\n</style>\n<table border=\"1\" class=\"dataframe\">\n  <thead>\n    <tr style=\"text-align: right;\">\n      <th></th>\n      <th>duplicated</th>\n      <th>tfidf mean</th>\n    </tr>\n  </thead>\n  <tbody>\n    <tr>\n      <th>0</th>\n      <td>significativas</td>\n      <td>0.000994</td>\n    </tr>\n    <tr>\n      <th>1</th>\n      <td>dois</td>\n      <td>0.000994</td>\n    </tr>\n    <tr>\n      <th>2</th>\n      <td>discrepancia</td>\n      <td>0.000994</td>\n    </tr>\n    <tr>\n      <th>3</th>\n      <td>paises</td>\n      <td>0.000000</td>\n    </tr>\n    <tr>\n      <th>4</th>\n      <td>tipo</td>\n      <td>0.000994</td>\n    </tr>\n    <tr>\n      <th>5</th>\n      <td>registrados</td>\n      <td>0.000994</td>\n    </tr>\n  </tbody>\n</table>\n</div>"
     },
     "execution_count": 20,
     "metadata": {},
     "output_type": "execute_result"
    }
   ],
   "source": [
    "# obtendo o tfidf médio das palavras duplicadas\n",
    "for word in duplicated:\n",
    "    duplicated_df = dfs[dfs['token'] == word]\n",
    "    duplicated_tfidf = duplicated_df['tfidf'].mean()\n",
    "    duplicated_tfidf_df.loc[duplicated_tfidf_df['duplicated'] == word, 'tfidf mean'] = duplicated_tfidf\n",
    "duplicated_tfidf_df"
   ]
  },
  {
   "cell_type": "code",
   "execution_count": 21,
   "metadata": {
    "pycharm": {
     "name": "#%%\n"
    }
   },
   "outputs": [],
   "source": [
    "import matplotlib.pyplot as plt\n",
    "import networkx as nx"
   ]
  },
  {
   "cell_type": "code",
   "execution_count": 22,
   "outputs": [
    {
     "data": {
      "text/plain": "             node           token     tfidf\n0    discrepancia  significativas  0.000994\n1    discrepancia            dois  0.000994\n0  significativas    discrepancia  0.000994\n1  significativas            dois  0.000994\n2  significativas          paises  0.000000\n0            dois    discrepancia  0.000994\n1            dois  significativas  0.000994\n3            dois            tipo  0.000994\n2            dois          paises  0.000000\n0            tipo            dois  0.000994\n2            tipo         existem  0.000994\n3            tipo     registrados  0.000994\n1            tipo          paises  0.000000\n1         existem            tipo  0.000994\n2         existem     registrados  0.000994\n3         existem      densamente  0.000994\n0         existem          paises  0.000000",
      "text/html": "<div>\n<style scoped>\n    .dataframe tbody tr th:only-of-type {\n        vertical-align: middle;\n    }\n\n    .dataframe tbody tr th {\n        vertical-align: top;\n    }\n\n    .dataframe thead th {\n        text-align: right;\n    }\n</style>\n<table border=\"1\" class=\"dataframe\">\n  <thead>\n    <tr style=\"text-align: right;\">\n      <th></th>\n      <th>node</th>\n      <th>token</th>\n      <th>tfidf</th>\n    </tr>\n  </thead>\n  <tbody>\n    <tr>\n      <th>0</th>\n      <td>discrepancia</td>\n      <td>significativas</td>\n      <td>0.000994</td>\n    </tr>\n    <tr>\n      <th>1</th>\n      <td>discrepancia</td>\n      <td>dois</td>\n      <td>0.000994</td>\n    </tr>\n    <tr>\n      <th>0</th>\n      <td>significativas</td>\n      <td>discrepancia</td>\n      <td>0.000994</td>\n    </tr>\n    <tr>\n      <th>1</th>\n      <td>significativas</td>\n      <td>dois</td>\n      <td>0.000994</td>\n    </tr>\n    <tr>\n      <th>2</th>\n      <td>significativas</td>\n      <td>paises</td>\n      <td>0.000000</td>\n    </tr>\n    <tr>\n      <th>0</th>\n      <td>dois</td>\n      <td>discrepancia</td>\n      <td>0.000994</td>\n    </tr>\n    <tr>\n      <th>1</th>\n      <td>dois</td>\n      <td>significativas</td>\n      <td>0.000994</td>\n    </tr>\n    <tr>\n      <th>3</th>\n      <td>dois</td>\n      <td>tipo</td>\n      <td>0.000994</td>\n    </tr>\n    <tr>\n      <th>2</th>\n      <td>dois</td>\n      <td>paises</td>\n      <td>0.000000</td>\n    </tr>\n    <tr>\n      <th>0</th>\n      <td>tipo</td>\n      <td>dois</td>\n      <td>0.000994</td>\n    </tr>\n    <tr>\n      <th>2</th>\n      <td>tipo</td>\n      <td>existem</td>\n      <td>0.000994</td>\n    </tr>\n    <tr>\n      <th>3</th>\n      <td>tipo</td>\n      <td>registrados</td>\n      <td>0.000994</td>\n    </tr>\n    <tr>\n      <th>1</th>\n      <td>tipo</td>\n      <td>paises</td>\n      <td>0.000000</td>\n    </tr>\n    <tr>\n      <th>1</th>\n      <td>existem</td>\n      <td>tipo</td>\n      <td>0.000994</td>\n    </tr>\n    <tr>\n      <th>2</th>\n      <td>existem</td>\n      <td>registrados</td>\n      <td>0.000994</td>\n    </tr>\n    <tr>\n      <th>3</th>\n      <td>existem</td>\n      <td>densamente</td>\n      <td>0.000994</td>\n    </tr>\n    <tr>\n      <th>0</th>\n      <td>existem</td>\n      <td>paises</td>\n      <td>0.000000</td>\n    </tr>\n  </tbody>\n</table>\n</div>"
     },
     "execution_count": 22,
     "metadata": {},
     "output_type": "execute_result"
    }
   ],
   "source": [
    "dfs"
   ],
   "metadata": {
    "collapsed": false,
    "pycharm": {
     "name": "#%%\n"
    }
   }
  },
  {
   "cell_type": "code",
   "execution_count": 29,
   "metadata": {
    "pycharm": {
     "name": "#%%\n"
    }
   },
   "outputs": [
    {
     "data": {
      "text/plain": "NodeView(('discrepancia', 'significativas', 'dois', 'paises', 'tipo', 'existem', 'registrados', 'densamente'))"
     },
     "execution_count": 29,
     "metadata": {},
     "output_type": "execute_result"
    }
   ],
   "source": [
    "# gerando o grafo\n",
    "graph = nx.from_pandas_edgelist(dfs, source='node', target='token')\n",
    "graph.nodes"
   ]
  },
  {
   "cell_type": "code",
   "execution_count": 30,
   "metadata": {
    "pycharm": {
     "name": "#%%\n"
    }
   },
   "outputs": [],
   "source": [
    "# copiando o dfs porém removendo a coluna nodes\n",
    "tfidf_list = dfs['tfidf']\n",
    "tfidf_df = dfs.drop(dfs.columns[0], axis=1, inplace=False)"
   ]
  },
  {
   "cell_type": "code",
   "execution_count": 31,
   "metadata": {
    "pycharm": {
     "name": "#%%\n"
    }
   },
   "outputs": [],
   "source": [
    "# removendo duplicadas\n",
    "tfidf_df = tfidf_df.drop_duplicates(subset=['token'], keep='first')"
   ]
  },
  {
   "cell_type": "code",
   "execution_count": 32,
   "metadata": {
    "pycharm": {
     "name": "#%%\n"
    }
   },
   "outputs": [],
   "source": [
    "# substituindo o tfidf das duplicadas pelo tfidf medio\n",
    "for i in range(len(duplicated_tfidf_df['duplicated'])):\n",
    "    key = duplicated_tfidf_df['duplicated'][i]\n",
    "    value = duplicated_tfidf_df['tfidf mean'][i]\n",
    "    tfidf_df.loc[tfidf_df['token'] == key, 'tfidf'] = value"
   ]
  },
  {
   "cell_type": "code",
   "execution_count": 33,
   "metadata": {
    "pycharm": {
     "name": "#%%\n"
    }
   },
   "outputs": [],
   "source": [
    "# obtendo a lista de tamanhos para os nós\n",
    "sizes = tfidf_df['tfidf']"
   ]
  },
  {
   "cell_type": "code",
   "execution_count": 34,
   "outputs": [
    {
     "data": {
      "text/plain": "<Figure size 720x720 with 1 Axes>",
      "image/png": "[encoded data removed]"
     },
     "metadata": {},
     "output_type": "display_data"
    }
   ],
   "source": [
    "# plotando o grafo\n",
    "plt.figure(figsize=(10,10))\n",
    "cmap = plt.cm.coolwarm\n",
    "colors = [n for n in range(len(graph.nodes()))]\n",
    "pos = nx.spring_layout(graph, k=.14)\n",
    "nx.draw_networkx(graph, pos, node_size = sizes.values*99999, cmap=cmap,\n",
    "node_color = colors, edge_color='grey', font_size=15, width=2, alpha=1)"
   ],
   "metadata": {
    "collapsed": false,
    "pycharm": {
     "name": "#%%\n"
    }
   }
  },
  {
   "cell_type": "code",
   "execution_count": null,
   "outputs": [],
   "source": [],
   "metadata": {
    "collapsed": false,
    "pycharm": {
     "name": "#%%\n"
    }
   }
  }
 ],
 "metadata": {
  "interpreter": {
   "hash": "8282df32b6015734b0d20281e59fda015a81cec359aabc035ebd62105b90e8bb"
  },
  "kernelspec": {
   "display_name": "Python 3",
   "language": "python",
   "name": "python3"
  },
  "language_info": {
   "codemirror_mode": {
    "name": "ipython",
    "version": 3
   },
   "file_extension": ".py",
   "mimetype": "text/x-python",
   "name": "python",
   "nbconvert_exporter": "python",
   "pygments_lexer": "ipython3",
   "version": "3.9.6"
  }
 },
 "nbformat": 4,
 "nbformat_minor": 1
}