{
 "cells": [
  {
   "cell_type": "code",
   "execution_count": 1,
   "outputs": [],
   "source": [
    "from dataloader.makedata import Dataloader"
   ],
   "metadata": {
    "collapsed": false,
    "pycharm": {
     "name": "#%%\n"
    }
   }
  },
  {
   "cell_type": "code",
   "execution_count": 2,
   "outputs": [],
   "source": [
    "path = '../data/raw/'"
   ],
   "metadata": {
    "collapsed": false,
    "pycharm": {
     "name": "#%%\n"
    }
   }
  },
  {
   "cell_type": "code",
   "execution_count": 2,
   "outputs": [],
   "source": [],
   "metadata": {
    "collapsed": false,
    "pycharm": {
     "name": "#%%\n"
    }
   }
  },
  {
   "cell_type": "code",
   "execution_count": 3,
   "outputs": [],
   "source": [
    "dl = Dataloader(path)"
   ],
   "metadata": {
    "collapsed": false,
    "pycharm": {
     "name": "#%%\n"
    }
   }
  },
  {
   "cell_type": "code",
   "execution_count": 4,
   "outputs": [],
   "source": [
    "lista = dl.load()"
   ],
   "metadata": {
    "collapsed": false,
    "pycharm": {
     "name": "#%%\n"
    }
   }
  },
  {
   "cell_type": "code",
   "execution_count": 5,
   "outputs": [
    {
     "data": {
      "text/plain": "3"
     },
     "execution_count": 5,
     "metadata": {},
     "output_type": "execute_result"
    }
   ],
   "source": [
    "len(lista)"
   ],
   "metadata": {
    "collapsed": false,
    "pycharm": {
     "name": "#%%\n"
    }
   }
  },
  {
   "cell_type": "code",
   "execution_count": 6,
   "outputs": [
    {
     "data": {
      "text/plain": "['O câncer de pulmão é a doença maligna mais comum em todo o mundo; de todos  \\nos novos casos de câncer, 13% são de câncer de pulmão.(1) De acordo com o Global  \\nBurden of Disease Study 2015, o câncer de pulmão é também a principal causa de  \\nmortalidade por câncer — mais de 1,7-1,8 milhões de mortes por ano e, de todos  \\nos tipos de câncer, o que apresenta a maior taxa de mortalidade padronizada pela  \\nidade (26,6 mortes por 100.000 habitantes).(2) No Brasil, o Instituto Nacional de  \\nCâncer (INCA) estimou em 596.000 o número de novos casos de câncer em 2016,  \\n28.220 (4.7%) dos quais foram casos de neoplasia maligna primária de pulmão. \\n(3)  \\nO câncer de pulmão é o segundo tipo de câncer de maior incidência em homens  \\ne o quarto tipo de câncer de maior incidência em mulheres no país (Figura 1).(3)  \\nComo na maioria dos países, o câncer de pulmão é a principal causa de mortalidade  \\npor câncer no Brasil. A taxa de sobrevida em 5 anos padronizada pela idade no país  \\né de 18%, semelhante às taxas globais, que variam de 10% a 20%.(4) Em 2012, as  \\ntaxas de mortalidade por câncer de pulmão padronizadas pela idade foram de 16,5  \\nmortes/100.000 habitantes e 8,6 mortes/100.000 habitantes em homens e mulheres,  \\nrespectivamente.(5) No Brasil, de 1979 a 2004, a mortalidade aumentou de 10,6  \\nmortes/100.000 habitantes para 31,1 mortes/100.000 habitantes em homens e de  \\n3,0 mortes/100.000 habitantes para 5,4 mortes/100.000 habitantes em mulheres.(6)  \\nAs taxas de mortalidade (tanto as brutas como as ajustadas pela idade) em homens  \\ne mulheres diferiram em magnitude em todos os períodos (1980-2007), com um  \\naumento relativo mais significativo nas mulheres que nos homens (78,4% vs. 8,2%),  \\nprovavelmente em virtude de diferenças na prevalência do tabagismo (Figura 2).  \\nAlém disso, as taxas de mortalidade por idade aumentaram em homens com idade  \\nigual \\nou \\nsuperior \\na \\n65 \\nanos \\ne \\nem \\nmulheres \\nde \\ntodas \\nas \\nidades.(7)  \\nO sistema de saúde brasileiro é dividido em cobertura privada e cobertura pública  \\n(27% e 73%, respectivamente). Como será discutido mais adiante na presente  \\nanálise, é evidente que há discrepância significativa entre o sistema público e o privado  \\nno tocante à disponibilidade de recursos de saúde e aos desfechos dos paciente. As tendências \\nda mortalidade por câncer de pulmão no  Brasil refletem o modelo epidemiológico da mortalidade  \\nrelacionada com o tabaco. O uso do tabaco aumentou durante as décadas de 1950 e 1960 e \\natingiu \\no \\nponto \\nmáximo \\nna \\ndécada \\nde \\n1970. \\nFortes \\npolíticas \\nde \\nsaúde  \\npública no Brasil resultaram em redução do consumo de tabaco, o que pode servir de exemplo \\npara outros países de baixa e média renda. Estudos conduzidos no Brasil indicam que tanto a \\nprevalência do tabagismo como as mortes com ele relacionadas diminuíram aproximadamente \\n50%.(9) Os dados provenientes de um estudo nacional de vigilância por telefone sobre fatores de \\nrisco de doenças crônicas e fatores de proteção contra essas doenças mostraram que  \\n12,7% dos homens e 8,0% das mulheres com 18 anos de idade ou mais eram fumantes em \\n2016(10); em 1989, as porcentagens eram de 43,3% e 27,0%, respectivamente. Os principais \\ncomponentes das políticas brasileiras antitabaco são a proibição do tabagismo em locais \\npúblicos, impostos mais altos sobre produtos do tabaco e alertas de saúde nos rótulos das \\nembalagens de cigarros. Apesar dessa diminuição do consumo de tabaco, pesquisas nacionais \\ncom \\ncrianças \\nno \\nBrasil \\nainda \\nmostram \\numa \\nprevalência \\nsignificativa  \\nde fumantes na população jovem em diversas cidades. Além disso, as doenças relacionadas \\ncom o tabagismo continuam a ser um grande fardo para a saúde econômica. Estima-se que, até \\n2020, a fração atribuível à população da carga de câncer de pulmão relacionada com o \\ntabagismo no Brasil será de 83,3% em homens e 64,8% em mulheres.(13) Esses dados  \\nsão relevantes para reforçar o papel do controle local do tabagismo. Não há dados a respeito da \\nprevalência do câncer de pulmão relacionado com outros fatores de risco, tais como exposição \\nao amianto, exposição à fumaça proveniente da combustão da lenha no domicílio e exposição \\nao radônio. \\n \\n \\n',\n 'Embora haja relativamente poucos dados no Brasil a respeito de como o câncer de pulmão é \\ndiagnosticado e classificado, foram publicados alguns dados nos últimos 15 anos. Assim como \\nocorre em países desenvolvidos, o câncer pulmonar de células não pequenas (CPCNP)  \\nno Brasil é geralmente diagnosticado em estágios avançados e apresenta baixas taxas de \\nsobrevida. No geral, aproximadamente 70% dos pacientes apresentam doença localmente \\navançada ou metastática (estágio III e IV, respectivamente). De acordo com um grande  \\nbanco de dados de casos de câncer no estado de São Paulo, apenas 8,8% dos 20.850 pacientes \\ncom câncer de pulmão registrados no sistema entre 2000 e 2010 apresentavam doença no \\nestágio \\nI.(14) \\nEssas \\nporcentagens \\ncontrastam \\ncom \\nas \\nde \\n15,4% \\ne \\n14,5%  \\nreferentes a um período semelhante nos EUA e no Reino Unido, respectivamente.(15,16) Um \\nensaio brasileiro de rastreamento de câncer de pulmão foi realizado a fim de determinar a eficácia \\ndo rastreamento no país.(17) Entre janeiro de 2013 e julho de 2014, 790 voluntários  \\nse ofereceram para participar do estudo, cujos critérios de elegibilidade foram os mesmos que \\nos aplicados em um ensaio nacional de rastreamento pulmonar realizado nos EUA. Do total de \\nparticipantes, 10 receberam o diagnóstico de CPCNP (prevalência de 1,3%), a maioria  \\ndos quais foi classificada em estágio I.(17) Foram publicadas várias séries retrospectivas nas  \\nquais foram relatados dados provenientes de uma única instituição a respeito da histologia, \\nestadiamento e desfechos do câncer de pulmão .(18-26)Curiosamente, a presença de células \\nescamosas no exame histológico parece ser mais prevalente em serviços públicos de saúde, ao \\npasso que o adenocarcinoma predomina em instituições privadas. Nos EUA, as taxas de \\ncarcinoma de células escamosas e carcinoma de pequenas células do pulmão (CPCP)  \\ndiminuíram após a década de 1990, e as taxas de adenocarcinoma aumentaram no período entre \\n2006 e 2010 em todas as raças/etnias/sexos.(27) Um importante centro oncológico no estado de \\nSão Paulo analisou dados coletados entre 1997 e 2008 referentes a 1.887 pacientes com câncer \\nde pulmão. (18) Houve uma queda da proporção de CPCP em dois período diferentes (1997-2002 \\ne 2003-2008), embora não  tenham ocorrido alterações significativas nos subgrupos histológicos \\nde CPCNP.(18) No entanto, em um estudo epidemiológico no qual foram avaliados dados de casos \\nde 35.018 pacientes com diagnóstico de CPCNP nos estados do Rio de Janeiro e São Paulo \\nentre \\n2000 \\ne \\n2011, \\nobservou-se \\numa \\ntendência \\na \\nmaior \\nprevalência  \\nde adenocarcinoma que de carcinoma de células escamosas no exame histológico nos últimos \\nanos (43,3% vs. 36,5%). \\n',\n 'Não há dados exatos a respeito do número de procedimentos cirúrgicos realizados para tratar  \\npacientes com câncer de pulmão. De acordo com o Departamento de Informática do SUS — um \\nbanco de dados do sistema público de saúde, que cobre aproximadamente 75% da população \\nbrasileira — uma mediana de 964 lobectomias e segmentectomias pulmonares foram realizadas \\nanualmente entre 2007 e 2014.(52) No entanto, há a possibilidade de que esse  \\nnúmero não seja exato: é possível que lobectomias e segmentectomias tenham sido realizadas \\npara tratar doenças que não o câncer de pulmão. O banco de dados é restrito ao sistema público \\nde saúde, e a qualidade dos dados é questionável. \\nApenas uma pequena proporção de pacientes é  submetida a cirurgia com intenção curativa. Os \\ndados  sugerem que aproximadamente 25% dos pacientes são  submetidos a tratamento \\ncirúrgico.(19,22,23) O acesso à cirurgia curativa é provavelmente influenciado por diferenças \\nsocioeconômicas, performance  status, comorbidades, idade avançada e distribuição  \\ngeográfica. (22) Segundo a Secretaria de Saúde do Estado  de São Paulo, a probabilidade de \\nrealização de cirurgia é menor em pacientes com menor escolaridade. Atualmente, existem 763 \\ncirurgiões torácicos no Brasil, concentrados nas regiões sul e sudeste do país.(53) Em uma \\npesquisa promovida pela Sociedade Brasileira de Cirurgia Torácica, 51% dos participantes \\ndisseram que trabalhavam em cidades com mais de um milhão de habitantes.(54) Portanto, \\nmesmo que o número absoluto de cirurgiões torácicos seja adequado, sua distribuição  \\né motivo de preocupação. Cidades de tamanho médio  e regiões densamente povoadas no \\ncentro, norte e nordeste do Brasil estão mal servidas no tocante à cirurgia torácica. A cirurgia \\ntorácica videoassistida está crescendo rapidamente no país. As taxas de mortalidade em 30 dias \\nnas duas maiores séries de casos cirúrgicos relatados, que incluíram pacientes submetidos a \\nlobectomia em virtude de câncer de pulmão, foram de 2,9% e 4,3%. (55,56) Grandes séries de \\ncasos \\ninternacionais \\npublicadas \\nnos \\nanos \\n2000 \\nrevelaram \\numa \\ntaxa \\nde  \\nmortalidade um pouco menor (de aproximadamente 1%).(57) Esses números sugerem que é \\npossível melhorar a cirurgia de câncer de pulmão no Brasil. Espera-se que a disseminação e \\ndisponibilidade de novas técnicas, tais como a cirurgia videoassistida e a cirurgia robótica, \\nacelerem esse processo. \\n']"
     },
     "execution_count": 6,
     "metadata": {},
     "output_type": "execute_result"
    }
   ],
   "source": [
    "lista"
   ],
   "metadata": {
    "collapsed": false,
    "pycharm": {
     "name": "#%%\n"
    }
   }
  },
  {
   "cell_type": "code",
   "execution_count": 7,
   "outputs": [
    {
     "name": "stderr",
     "output_type": "stream",
     "text": [
      "C:\\Users\\mathe\\Desktop\\atlantico\\projeto_01\\auto-diagnostic\\dataloader\\makedata.py:28: SettingWithCopyWarning: \n",
      "A value is trying to be set on a copy of a slice from a DataFrame\n",
      "\n",
      "See the caveats in the documentation: https://pandas.pydata.org/pandas-docs/stable/user_guide/indexing.html#returning-a-view-versus-a-copy\n",
      "  df[text_field][i]=unidecode.unidecode(df[text_field].iloc[i])\n",
      "\n",
      "C:\\Users\\mathe\\Desktop\\atlantico\\projeto_01\\auto-diagnostic\\dataloader\\makedata.py:30: FutureWarning: The default value of regex will change from True to False in a future version.\n",
      "  df[text_field] = df[text_field].str.replace(r\"[()\\;\\,\\%\\-\\/\\--\\.!?@\\'\\`\\\"\\_\\n]\", \" \")\n",
      "\n"
     ]
    },
    {
     "data": {
      "text/plain": "   txt_idx                                        text_column\n0        0  o cancer de pulmao e a doenca maligna mais com...\n1        1  embora haja relativamente poucos dados no bras...\n2        2  nao ha dados exatos a respeito do numero de pr...",
      "text/html": "<div>\n<style scoped>\n    .dataframe tbody tr th:only-of-type {\n        vertical-align: middle;\n    }\n\n    .dataframe tbody tr th {\n        vertical-align: top;\n    }\n\n    .dataframe thead th {\n        text-align: right;\n    }\n</style>\n<table border=\"1\" class=\"dataframe\">\n  <thead>\n    <tr style=\"text-align: right;\">\n      <th></th>\n      <th>txt_idx</th>\n      <th>text_column</th>\n    </tr>\n  </thead>\n  <tbody>\n    <tr>\n      <th>0</th>\n      <td>0</td>\n      <td>o cancer de pulmao e a doenca maligna mais com...</td>\n    </tr>\n    <tr>\n      <th>1</th>\n      <td>1</td>\n      <td>embora haja relativamente poucos dados no bras...</td>\n    </tr>\n    <tr>\n      <th>2</th>\n      <td>2</td>\n      <td>nao ha dados exatos a respeito do numero de pr...</td>\n    </tr>\n  </tbody>\n</table>\n</div>"
     },
     "execution_count": 7,
     "metadata": {},
     "output_type": "execute_result"
    }
   ],
   "source": [
    "data = dl.make_csv()\n",
    "data"
   ],
   "metadata": {
    "collapsed": false,
    "pycharm": {
     "name": "#%%\n"
    }
   }
  },
  {
   "cell_type": "code",
   "execution_count": null,
   "outputs": [],
   "source": [],
   "metadata": {
    "collapsed": false,
    "pycharm": {
     "name": "#%%\n"
    }
   }
  }
 ],
 "metadata": {
  "kernelspec": {
   "display_name": "Python 3",
   "language": "python",
   "name": "python3"
  },
  "language_info": {
   "codemirror_mode": {
    "name": "ipython",
    "version": 2
   },
   "file_extension": ".py",
   "mimetype": "text/x-python",
   "name": "python",
   "nbconvert_exporter": "python",
   "pygments_lexer": "ipython2",
   "version": "2.7.6"
  }
 },
 "nbformat": 4,
 "nbformat_minor": 0
}