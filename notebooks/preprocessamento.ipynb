{
 "cells": [
  {
   "cell_type": "code",
   "execution_count": 64,
   "metadata": {
    "collapsed": true,
    "pycharm": {
     "name": "#%%\n"
    }
   },
   "outputs": [],
   "source": [
    "import re\n",
    "from nltk.tokenize import sent_tokenize\n",
    "from nltk.tokenize import word_tokenize\n",
    "from nltk.tokenize import regexp_tokenize\n",
    "import pandas as pd\n",
    "import fitz\n",
    "import unidecode"
   ]
  },
  {
   "cell_type": "code",
   "execution_count": 2,
   "outputs": [],
   "source": [
    "path = '../data/raw/texto1.pdf'"
   ],
   "metadata": {
    "collapsed": false,
    "pycharm": {
     "name": "#%%\n"
    }
   }
  },
  {
   "cell_type": "code",
   "execution_count": 177,
   "outputs": [],
   "source": [
    "def standardize_text(df, text_field):\n",
    "    #df[text_field] = df[text_field].str.replace(r\"[^A-Za-z0-9(),!?@\\'\\`\\\"\\_\\n]\", \" \")\n",
    "    for i in range(0,len(df)):\n",
    "        df[text_field] = unidecode.unidecode(df[text_field].iloc[i])\n",
    "\n",
    "        #df[text_field] = re.sub(r'[^\\w\\s]','',df[text_field].iloc[i])\n",
    "        #df[text_field] = re.sub(r'[^\\n]','',df[text_field].iloc[i])\n",
    "    df[text_field] = df[text_field].str.lower()\n",
    "    df[text_field] = df[text_field].str.replace(r\"[()\\;\\,\\%\\-\\/\\--\\.!?@\\'\\`\\\"\\_\\n]\", \" \")\n",
    "\n",
    "    return df"
   ],
   "metadata": {
    "collapsed": false,
    "pycharm": {
     "name": "#%%\n"
    }
   }
  },
  {
   "cell_type": "code",
   "execution_count": 177,
   "outputs": [],
   "source": [],
   "metadata": {
    "collapsed": false,
    "pycharm": {
     "name": "#%%\n"
    }
   }
  },
  {
   "cell_type": "code",
   "execution_count": 178,
   "outputs": [],
   "source": [
    "conteudo =\"\""
   ],
   "metadata": {
    "collapsed": false,
    "pycharm": {
     "name": "#%%\n"
    }
   }
  },
  {
   "cell_type": "code",
   "execution_count": 178,
   "outputs": [],
   "source": [
    "\n"
   ],
   "metadata": {
    "collapsed": false,
    "pycharm": {
     "name": "#%%\n"
    }
   }
  },
  {
   "cell_type": "code",
   "execution_count": 179,
   "outputs": [],
   "source": [
    "with fitz.open(path) as ff:\n",
    "    for pagina in ff:\n",
    "        conteudo+=pagina.get_text()"
   ],
   "metadata": {
    "collapsed": false,
    "pycharm": {
     "name": "#%%\n"
    }
   }
  },
  {
   "cell_type": "code",
   "execution_count": 180,
   "outputs": [
    {
     "data": {
      "text/plain": "'O câncer de pulmão é a doença maligna mais comum em todo o mundo; de todos  \\nos novos casos de câncer, 13% são de câncer de pulmão.(1) De acordo com o Global  \\nBurden of Disease Study 2015, o câncer de pulmão é também a principal causa de  \\nmortalidade por câncer — mais de 1,7-1,8 milhões de mortes por ano e, de todos  \\nos tipos de câncer, o que apresenta a maior taxa de mortalidade padronizada pela  \\nidade (26,6 mortes por 100.000 habitantes).(2) No Brasil, o Instituto Nacional de  \\nCâncer (INCA) estimou em 596.000 o número de novos casos de câncer em 2016,  \\n28.220 (4.7%) dos quais foram casos de neoplasia maligna primária de pulmão. \\n(3)  \\nO câncer de pulmão é o segundo tipo de câncer de maior incidência em homens  \\ne o quarto tipo de câncer de maior incidência em mulheres no país (Figura 1).(3)  \\nComo na maioria dos países, o câncer de pulmão é a principal causa de mortalidade  \\npor câncer no Brasil. A taxa de sobrevida em 5 anos padronizada pela idade no país  \\né de 18%, semelhante às taxas globais, que variam de 10% a 20%.(4) Em 2012, as  \\ntaxas de mortalidade por câncer de pulmão padronizadas pela idade foram de 16,5  \\nmortes/100.000 habitantes e 8,6 mortes/100.000 habitantes em homens e mulheres,  \\nrespectivamente.(5) No Brasil, de 1979 a 2004, a mortalidade aumentou de 10,6  \\nmortes/100.000 habitantes para 31,1 mortes/100.000 habitantes em homens e de  \\n3,0 mortes/100.000 habitantes para 5,4 mortes/100.000 habitantes em mulheres.(6)  \\nAs taxas de mortalidade (tanto as brutas como as ajustadas pela idade) em homens  \\ne mulheres diferiram em magnitude em todos os períodos (1980-2007), com um  \\naumento relativo mais significativo nas mulheres que nos homens (78,4% vs. 8,2%),  \\nprovavelmente em virtude de diferenças na prevalência do tabagismo (Figura 2).  \\nAlém disso, as taxas de mortalidade por idade aumentaram em homens com idade  \\nigual \\nou \\nsuperior \\na \\n65 \\nanos \\ne \\nem \\nmulheres \\nde \\ntodas \\nas \\nidades.(7)  \\nO sistema de saúde brasileiro é dividido em cobertura privada e cobertura pública  \\n(27% e 73%, respectivamente). Como será discutido mais adiante na presente  \\nanálise, é evidente que há discrepância significativa entre o sistema público e o privado  \\nno tocante à disponibilidade de recursos de saúde e aos desfechos dos paciente. As tendências \\nda mortalidade por câncer de pulmão no  Brasil refletem o modelo epidemiológico da mortalidade  \\nrelacionada com o tabaco. O uso do tabaco aumentou durante as décadas de 1950 e 1960 e \\natingiu \\no \\nponto \\nmáximo \\nna \\ndécada \\nde \\n1970. \\nFortes \\npolíticas \\nde \\nsaúde  \\npública no Brasil resultaram em redução do consumo de tabaco, o que pode servir de exemplo \\npara outros países de baixa e média renda. Estudos conduzidos no Brasil indicam que tanto a \\nprevalência do tabagismo como as mortes com ele relacionadas diminuíram aproximadamente \\n50%.(9) Os dados provenientes de um estudo nacional de vigilância por telefone sobre fatores de \\nrisco de doenças crônicas e fatores de proteção contra essas doenças mostraram que  \\n12,7% dos homens e 8,0% das mulheres com 18 anos de idade ou mais eram fumantes em \\n2016(10); em 1989, as porcentagens eram de 43,3% e 27,0%, respectivamente. Os principais \\ncomponentes das políticas brasileiras antitabaco são a proibição do tabagismo em locais \\npúblicos, impostos mais altos sobre produtos do tabaco e alertas de saúde nos rótulos das \\nembalagens de cigarros. Apesar dessa diminuição do consumo de tabaco, pesquisas nacionais \\ncom \\ncrianças \\nno \\nBrasil \\nainda \\nmostram \\numa \\nprevalência \\nsignificativa  \\nde fumantes na população jovem em diversas cidades. Além disso, as doenças relacionadas \\ncom o tabagismo continuam a ser um grande fardo para a saúde econômica. Estima-se que, até \\n2020, a fração atribuível à população da carga de câncer de pulmão relacionada com o \\ntabagismo no Brasil será de 83,3% em homens e 64,8% em mulheres.(13) Esses dados  \\nsão relevantes para reforçar o papel do controle local do tabagismo. Não há dados a respeito da \\nprevalência do câncer de pulmão relacionado com outros fatores de risco, tais como exposição \\nao amianto, exposição à fumaça proveniente da combustão da lenha no domicílio e exposição \\nao radônio. \\n \\n \\n'"
     },
     "execution_count": 180,
     "metadata": {},
     "output_type": "execute_result"
    }
   ],
   "source": [
    "conteudo"
   ],
   "metadata": {
    "collapsed": false,
    "pycharm": {
     "name": "#%%\n"
    }
   }
  },
  {
   "cell_type": "code",
   "execution_count": 181,
   "outputs": [],
   "source": [
    "#cls_conteudo=re.sub('\\n', '', conteudo)\n",
    "#cls_conteudo"
   ],
   "metadata": {
    "collapsed": false,
    "pycharm": {
     "name": "#%%\n"
    }
   }
  },
  {
   "cell_type": "code",
   "execution_count": 182,
   "outputs": [],
   "source": [
    "data = {'txt_1':conteudo}"
   ],
   "metadata": {
    "collapsed": false,
    "pycharm": {
     "name": "#%%\n"
    }
   }
  },
  {
   "cell_type": "code",
   "execution_count": 183,
   "outputs": [
    {
     "data": {
      "text/plain": "                                               txt_1\n0  O câncer de pulmão é a doença maligna mais com...",
      "text/html": "<div>\n<style scoped>\n    .dataframe tbody tr th:only-of-type {\n        vertical-align: middle;\n    }\n\n    .dataframe tbody tr th {\n        vertical-align: top;\n    }\n\n    .dataframe thead th {\n        text-align: right;\n    }\n</style>\n<table border=\"1\" class=\"dataframe\">\n  <thead>\n    <tr style=\"text-align: right;\">\n      <th></th>\n      <th>txt_1</th>\n    </tr>\n  </thead>\n  <tbody>\n    <tr>\n      <th>0</th>\n      <td>O câncer de pulmão é a doença maligna mais com...</td>\n    </tr>\n  </tbody>\n</table>\n</div>"
     },
     "execution_count": 183,
     "metadata": {},
     "output_type": "execute_result"
    }
   ],
   "source": [
    "dataset = pd.DataFrame(data=data, index=[0])\n",
    "dataset"
   ],
   "metadata": {
    "collapsed": false,
    "pycharm": {
     "name": "#%%\n"
    }
   }
  },
  {
   "cell_type": "code",
   "execution_count": 184,
   "outputs": [
    {
     "name": "stderr",
     "output_type": "stream",
     "text": [
      "C:\\Users\\mathe\\AppData\\Local\\Temp\\ipykernel_16824\\1080199120.py:9: FutureWarning: The default value of regex will change from True to False in a future version.\n",
      "  df[text_field] = df[text_field].str.replace(r\"[()\\;\\,\\%\\-\\/\\--\\.!?@\\'\\`\\\"\\_\\n]\", \" \")\n",
      "\n"
     ]
    },
    {
     "data": {
      "text/plain": "                                               txt_1\n0  o cancer de pulmao e a doenca maligna mais com...",
      "text/html": "<div>\n<style scoped>\n    .dataframe tbody tr th:only-of-type {\n        vertical-align: middle;\n    }\n\n    .dataframe tbody tr th {\n        vertical-align: top;\n    }\n\n    .dataframe thead th {\n        text-align: right;\n    }\n</style>\n<table border=\"1\" class=\"dataframe\">\n  <thead>\n    <tr style=\"text-align: right;\">\n      <th></th>\n      <th>txt_1</th>\n    </tr>\n  </thead>\n  <tbody>\n    <tr>\n      <th>0</th>\n      <td>o cancer de pulmao e a doenca maligna mais com...</td>\n    </tr>\n  </tbody>\n</table>\n</div>"
     },
     "execution_count": 184,
     "metadata": {},
     "output_type": "execute_result"
    }
   ],
   "source": [
    "df = standardize_text(dataset,'txt_1')\n",
    "df"
   ],
   "metadata": {
    "collapsed": false,
    "pycharm": {
     "name": "#%%\n"
    }
   }
  },
  {
   "cell_type": "code",
   "execution_count": 185,
   "outputs": [
    {
     "data": {
      "text/plain": "1"
     },
     "execution_count": 185,
     "metadata": {},
     "output_type": "execute_result"
    }
   ],
   "source": [
    "len(dataset)"
   ],
   "metadata": {
    "collapsed": false,
    "pycharm": {
     "name": "#%%\n"
    }
   }
  },
  {
   "cell_type": "code",
   "execution_count": 186,
   "outputs": [
    {
     "data": {
      "text/plain": "'o cancer de pulmao e a doenca maligna mais comum em todo o mundo  de todos   os novos casos de cancer  13  sao de cancer de pulmao  1  de acordo com o global   burden of disease study 2015  o cancer de pulmao e tambem a principal causa de   mortalidade por cancer    mais de 1 7 1 8 milhoes de mortes por ano e  de todos   os tipos de cancer  o que apresenta a maior taxa de mortalidade padronizada pela   idade  26 6 mortes por 100 000 habitantes   2  no brasil  o instituto nacional de   cancer  inca  estimou em 596 000 o numero de novos casos de cancer em 2016    28 220  4 7   dos quais foram casos de neoplasia maligna primaria de pulmao    3    o cancer de pulmao e o segundo tipo de cancer de maior incidencia em homens   e o quarto tipo de cancer de maior incidencia em mulheres no pais  figura 1   3    como na maioria dos paises  o cancer de pulmao e a principal causa de mortalidade   por cancer no brasil  a taxa de sobrevida em 5 anos padronizada pela idade no pais   e de 18   semelhante as taxas globais  que variam de 10  a 20   4  em 2012  as   taxas de mortalidade por cancer de pulmao padronizadas pela idade foram de 16 5   mortes 100 000 habitantes e 8 6 mortes 100 000 habitantes em homens e mulheres    respectivamente  5  no brasil  de 1979 a 2004  a mortalidade aumentou de 10 6   mortes 100 000 habitantes para 31 1 mortes 100 000 habitantes em homens e de   3 0 mortes 100 000 habitantes para 5 4 mortes 100 000 habitantes em mulheres  6    as taxas de mortalidade  tanto as brutas como as ajustadas pela idade  em homens   e mulheres diferiram em magnitude em todos os periodos  1980 2007   com um   aumento relativo mais significativo nas mulheres que nos homens  78 4  vs  8 2      provavelmente em virtude de diferencas na prevalencia do tabagismo  figura 2     alem disso  as taxas de mortalidade por idade aumentaram em homens com idade   igual  ou  superior  a  65  anos  e  em  mulheres  de  todas  as  idades  7    o sistema de saude brasileiro e dividido em cobertura privada e cobertura publica    27  e 73   respectivamente   como sera discutido mais adiante na presente   analise  e evidente que ha discrepancia significativa entre o sistema publico e o privado   no tocante a disponibilidade de recursos de saude e aos desfechos dos paciente  as tendencias  da mortalidade por cancer de pulmao no  brasil refletem o modelo epidemiologico da mortalidade   relacionada com o tabaco  o uso do tabaco aumentou durante as decadas de 1950 e 1960 e  atingiu  o  ponto  maximo  na  decada  de  1970   fortes  politicas  de  saude   publica no brasil resultaram em reducao do consumo de tabaco  o que pode servir de exemplo  para outros paises de baixa e media renda  estudos conduzidos no brasil indicam que tanto a  prevalencia do tabagismo como as mortes com ele relacionadas diminuiram aproximadamente  50   9  os dados provenientes de um estudo nacional de vigilancia por telefone sobre fatores de  risco de doencas cronicas e fatores de protecao contra essas doencas mostraram que   12 7  dos homens e 8 0  das mulheres com 18 anos de idade ou mais eram fumantes em  2016 10   em 1989  as porcentagens eram de 43 3  e 27 0   respectivamente  os principais  componentes das politicas brasileiras antitabaco sao a proibicao do tabagismo em locais  publicos  impostos mais altos sobre produtos do tabaco e alertas de saude nos rotulos das  embalagens de cigarros  apesar dessa diminuicao do consumo de tabaco  pesquisas nacionais  com  criancas  no  brasil  ainda  mostram  uma  prevalencia  significativa   de fumantes na populacao jovem em diversas cidades  alem disso  as doencas relacionadas  com o tabagismo continuam a ser um grande fardo para a saude economica  estima se que  ate  2020  a fracao atribuivel a populacao da carga de cancer de pulmao relacionada com o  tabagismo no brasil sera de 83 3  em homens e 64 8  em mulheres  13  esses dados   sao relevantes para reforcar o papel do controle local do tabagismo  nao ha dados a respeito da  prevalencia do cancer de pulmao relacionado com outros fatores de risco  tais como exposicao  ao amianto  exposicao a fumaca proveniente da combustao da lenha no domicilio e exposicao  ao radonio       '"
     },
     "execution_count": 186,
     "metadata": {},
     "output_type": "execute_result"
    }
   ],
   "source": [
    "dataset['txt_1'].iloc[0]"
   ],
   "metadata": {
    "collapsed": false,
    "pycharm": {
     "name": "#%%\n"
    }
   }
  },
  {
   "cell_type": "code",
   "execution_count": 176,
   "outputs": [],
   "source": [],
   "metadata": {
    "collapsed": false,
    "pycharm": {
     "name": "#%%\n"
    }
   }
  },
  {
   "cell_type": "code",
   "execution_count": null,
   "outputs": [],
   "source": [],
   "metadata": {
    "collapsed": false,
    "pycharm": {
     "name": "#%%\n"
    }
   }
  }
 ],
 "metadata": {
  "kernelspec": {
   "display_name": "Python 3",
   "language": "python",
   "name": "python3"
  },
  "language_info": {
   "codemirror_mode": {
    "name": "ipython",
    "version": 2
   },
   "file_extension": ".py",
   "mimetype": "text/x-python",
   "name": "python",
   "nbconvert_exporter": "python",
   "pygments_lexer": "ipython2",
   "version": "2.7.6"
  }
 },
 "nbformat": 4,
 "nbformat_minor": 0
}