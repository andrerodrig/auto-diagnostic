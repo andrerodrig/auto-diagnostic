{
 "cells": [
  {
   "cell_type": "code",
   "execution_count": 2,
   "metadata": {
    "collapsed": false,
    "pycharm": {
     "name": "#%%\n"
    }
   },
   "outputs": [],
   "source": [
    "from auto_diagnostic.tfidf import TFIDF\n",
    "import nltk\n",
    "\n",
    "# processando os dados\n",
    "tfidf = TFIDF(word_set=[], sentences=[])"
   ]
  },
  {
   "cell_type": "code",
   "execution_count": 3,
   "metadata": {
    "collapsed": false,
    "pycharm": {
     "name": "#%%\n"
    }
   },
   "outputs": [],
   "source": [
    "text = ['As frases de tópico são semelhantes às declarações de mini tese.\\\n",
    "        Como uma declaração de tese, um tópico frasal tem um \\\n",
    "        ponto principal. Considerando que a tese é o ponto principal do ensaio',\\\n",
    "        'o tópico frasal é o ponto principal do parágrafo.\\\n",
    "        Como a declaração de tese, um tópico frasal tem uma função unificadora. \\\n",
    "        Mas uma declaração de tese ou frase de tópico por si só não garante unidade.', \\\n",
    "        'Um ensaio é unificado se todos os parágrafos se relacionam com a tese,\\\n",
    "        um parágrafo é unificado se todas as sentenças se relacionam com o tópico frasal while.']"
   ]
  },
  {
   "cell_type": "code",
   "execution_count": 4,
   "metadata": {
    "collapsed": false,
    "pycharm": {
     "name": "#%%\n"
    }
   },
   "outputs": [
    {
     "name": "stderr",
     "output_type": "stream",
     "text": [
      "[nltk_data] Downloading package stopwords to /home/aizen/nltk_data...\n",
      "[nltk_data]   Package stopwords is already up-to-date!\n"
     ]
    },
    {
     "data": {
      "text/plain": [
       "True"
      ]
     },
     "execution_count": 4,
     "metadata": {},
     "output_type": "execute_result"
    }
   ],
   "source": [
    "nltk.download('stopwords')"
   ]
  },
  {
   "cell_type": "code",
   "execution_count": 5,
   "metadata": {
    "collapsed": false,
    "pycharm": {
     "name": "#%%\n"
    }
   },
   "outputs": [],
   "source": [
    "stopwords = nltk.corpus.stopwords.words('portuguese')"
   ]
  },
  {
   "cell_type": "code",
   "execution_count": 6,
   "metadata": {
    "collapsed": false,
    "pycharm": {
     "name": "#%%\n"
    }
   },
   "outputs": [
    {
     "data": {
      "text/plain": [
       "['de', 'a', 'o', 'que', 'e', 'é', 'do', 'da', 'em', 'um']"
      ]
     },
     "execution_count": 6,
     "metadata": {},
     "output_type": "execute_result"
    }
   ],
   "source": [
    "stopwords[:10]"
   ]
  },
  {
   "cell_type": "code",
   "execution_count": 7,
   "metadata": {
    "collapsed": false,
    "pycharm": {
     "name": "#%%\n"
    }
   },
   "outputs": [],
   "source": [
    "set_stopwords = set(stopwords)"
   ]
  },
  {
   "cell_type": "code",
   "execution_count": 8,
   "metadata": {
    "collapsed": false,
    "pycharm": {
     "name": "#%%\n"
    }
   },
   "outputs": [],
   "source": [
    "word_set = tfidf.get_wordset_from_text(text)"
   ]
  },
  {
   "cell_type": "code",
   "execution_count": 9,
   "metadata": {
    "collapsed": false,
    "pycharm": {
     "name": "#%%\n"
    }
   },
   "outputs": [],
   "source": [
    "# total_documents = len(tfidf.sentences)\n",
    "# total_documents"
   ]
  },
  {
   "cell_type": "code",
   "execution_count": 10,
   "metadata": {
    "collapsed": false,
    "pycharm": {
     "name": "#%%\n"
    }
   },
   "outputs": [],
   "source": [
    "index_dict = tfidf.get_wordset_index_dict()"
   ]
  },
  {
   "cell_type": "code",
   "execution_count": 11,
   "metadata": {},
   "outputs": [
    {
     "data": {
      "text/plain": [
       "{'são': 0,\n",
       " 'que': 1,\n",
       " 'se': 2,\n",
       " 'todos': 3,\n",
       " 'é': 4,\n",
       " 'por': 5,\n",
       " 'só': 6,\n",
       " 'mas': 7,\n",
       " 'declaração': 8,\n",
       " 'às': 9,\n",
       " 'tópico': 10,\n",
       " 'garante': 11,\n",
       " 'parágrafos': 12,\n",
       " 'declarações': 13,\n",
       " 'ou': 14,\n",
       " 'unificado': 15,\n",
       " 'todas': 16,\n",
       " 'frasal': 17,\n",
       " 'considerando': 18,\n",
       " 'com': 19,\n",
       " 'as': 20,\n",
       " 'mini': 21,\n",
       " 'os': 22,\n",
       " 'frases': 23,\n",
       " 'ponto': 24,\n",
       " 'parágrafo': 25,\n",
       " 'função': 26,\n",
       " 'tese': 27,\n",
       " 'si': 28,\n",
       " 'como': 29,\n",
       " 'principal': 30,\n",
       " 'do': 31,\n",
       " 'relacionam': 32,\n",
       " 'sentenças': 33,\n",
       " 'tem': 34,\n",
       " 'a': 35,\n",
       " 'de': 36,\n",
       " 'não': 37,\n",
       " 'unidade': 38,\n",
       " 'semelhantes': 39,\n",
       " 'frase': 40,\n",
       " 'o': 41,\n",
       " 'while': 42,\n",
       " 'uma': 43,\n",
       " 'um': 44,\n",
       " 'ensaio': 45,\n",
       " 'unificadora': 46}"
      ]
     },
     "execution_count": 11,
     "metadata": {},
     "output_type": "execute_result"
    }
   ],
   "source": [
    "index_dict"
   ]
  },
  {
   "cell_type": "code",
   "execution_count": 12,
   "metadata": {
    "collapsed": false,
    "pycharm": {
     "name": "#%%\n"
    }
   },
   "outputs": [],
   "source": [
    "word_count = tfidf.count_dict()"
   ]
  },
  {
   "cell_type": "code",
   "execution_count": 13,
   "metadata": {},
   "outputs": [
    {
     "data": {
      "text/plain": [
       "{'são': 1,\n",
       " 'que': 1,\n",
       " 'se': 1,\n",
       " 'todos': 1,\n",
       " 'é': 3,\n",
       " 'por': 1,\n",
       " 'só': 1,\n",
       " 'mas': 1,\n",
       " 'declaração': 2,\n",
       " 'às': 1,\n",
       " 'tópico': 3,\n",
       " 'garante': 1,\n",
       " 'parágrafos': 1,\n",
       " 'declarações': 1,\n",
       " 'ou': 1,\n",
       " 'unificado': 1,\n",
       " 'todas': 1,\n",
       " 'frasal': 3,\n",
       " 'considerando': 1,\n",
       " 'com': 1,\n",
       " 'as': 2,\n",
       " 'mini': 1,\n",
       " 'os': 1,\n",
       " 'frases': 1,\n",
       " 'ponto': 2,\n",
       " 'parágrafo': 2,\n",
       " 'função': 1,\n",
       " 'tese': 3,\n",
       " 'si': 1,\n",
       " 'como': 2,\n",
       " 'principal': 2,\n",
       " 'do': 2,\n",
       " 'relacionam': 1,\n",
       " 'sentenças': 1,\n",
       " 'tem': 2,\n",
       " 'a': 3,\n",
       " 'de': 2,\n",
       " 'não': 1,\n",
       " 'unidade': 1,\n",
       " 'semelhantes': 1,\n",
       " 'frase': 1,\n",
       " 'o': 3,\n",
       " 'while': 1,\n",
       " 'uma': 2,\n",
       " 'um': 3,\n",
       " 'ensaio': 2,\n",
       " 'unificadora': 1}"
      ]
     },
     "execution_count": 13,
     "metadata": {},
     "output_type": "execute_result"
    }
   ],
   "source": [
    "word_count"
   ]
  },
  {
   "cell_type": "code",
   "execution_count": 14,
   "metadata": {
    "collapsed": false,
    "pycharm": {
     "name": "#%%\n"
    }
   },
   "outputs": [
    {
     "name": "stderr",
     "output_type": "stream",
     "text": [
      "[nltk_data] Downloading package stopwords to /home/aizen/nltk_data...\n",
      "[nltk_data]   Package stopwords is already up-to-date!\n"
     ]
    },
    {
     "data": {
      "text/plain": [
       "True"
      ]
     },
     "execution_count": 14,
     "metadata": {},
     "output_type": "execute_result"
    }
   ],
   "source": [
    "nltk.download('stopwords')"
   ]
  },
  {
   "cell_type": "code",
   "execution_count": 15,
   "metadata": {
    "collapsed": false,
    "pycharm": {
     "name": "#%%\n"
    }
   },
   "outputs": [],
   "source": [
    "import numpy as np"
   ]
  },
  {
   "cell_type": "code",
   "execution_count": 16,
   "metadata": {},
   "outputs": [
    {
     "name": "stdout",
     "output_type": "stream",
     "text": [
      "['as', 'frases', 'de', 'tópico', 'são', 'semelhantes', 'às', 'declarações', 'de', 'mini', 'tese', 'como', 'uma', 'declaração', 'de', 'tese', 'um', 'tópico', 'frasal', 'tem', 'um', 'ponto', 'principal', 'considerando', 'que', 'a', 'tese', 'é', 'o', 'ponto', 'principal', 'do', 'ensaio']\n",
      "['o', 'tópico', 'frasal', 'é', 'o', 'ponto', 'principal', 'do', 'parágrafo', 'como', 'a', 'declaração', 'de', 'tese', 'um', 'tópico', 'frasal', 'tem', 'uma', 'função', 'unificadora', 'mas', 'uma', 'declaração', 'de', 'tese', 'ou', 'frase', 'de', 'tópico', 'por', 'si', 'só', 'não', 'garante', 'unidade']\n",
      "['um', 'ensaio', 'é', 'unificado', 'se', 'todos', 'os', 'parágrafos', 'se', 'relacionam', 'com', 'a', 'tese', 'um', 'parágrafo', 'é', 'unificado', 'se', 'todas', 'as', 'sentenças', 'se', 'relacionam', 'com', 'o', 'tópico', 'frasal', 'while']\n"
     ]
    }
   ],
   "source": [
    "for word in tfidf.sentences:\n",
    "    print(word)"
   ]
  },
  {
   "cell_type": "code",
   "execution_count": 17,
   "metadata": {
    "collapsed": false,
    "pycharm": {
     "name": "#%%\n"
    }
   },
   "outputs": [],
   "source": [
    "vectors = tfidf.tf_idf()"
   ]
  },
  {
   "cell_type": "code",
   "execution_count": 18,
   "metadata": {
    "collapsed": false,
    "pycharm": {
     "name": "#%%\n"
    }
   },
   "outputs": [
    {
     "data": {
      "text/plain": [
       "array([ 0.00418005,  0.00418005,  0.01672021,  0.00418005, -0.01186318,\n",
       "        0.00418005,  0.00418005,  0.00418005,  0.        ,  0.00418005,\n",
       "       -0.01779477,  0.00418005,  0.00418005,  0.00418005,  0.00418005,\n",
       "        0.00836011,  0.00418005, -0.01186318,  0.00418005,  0.00836011,\n",
       "        0.        ,  0.00418005,  0.00418005,  0.00418005,  0.        ,\n",
       "        0.        ,  0.00418005, -0.01779477,  0.00418005,  0.        ,\n",
       "        0.        ,  0.        ,  0.00836011,  0.00418005,  0.        ,\n",
       "       -0.00889738,  0.        ,  0.00418005,  0.00418005,  0.00418005,\n",
       "        0.00418005, -0.01186318,  0.00418005,  0.        , -0.01482897,\n",
       "        0.        ,  0.00418005])"
      ]
     },
     "execution_count": 18,
     "metadata": {},
     "output_type": "execute_result"
    }
   ],
   "source": [
    "vectors"
   ]
  },
  {
   "cell_type": "code",
   "execution_count": 19,
   "metadata": {
    "collapsed": false,
    "pycharm": {
     "name": "#%%\n"
    }
   },
   "outputs": [
    {
     "data": {
      "text/plain": [
       "47"
      ]
     },
     "execution_count": 19,
     "metadata": {},
     "output_type": "execute_result"
    }
   ],
   "source": [
    "len(vectors)"
   ]
  },
  {
   "cell_type": "code",
   "execution_count": 20,
   "metadata": {},
   "outputs": [
    {
     "data": {
      "text/plain": [
       "[(2, 'se', 0.016720210643635644),\n",
       " (15, 'unificado', 0.008360105321817822),\n",
       " (19, 'com', 0.008360105321817822),\n",
       " (32, 'relacionam', 0.008360105321817822),\n",
       " (0, 'são', 0.004180052660908911)]"
      ]
     },
     "execution_count": 20,
     "metadata": {},
     "output_type": "execute_result"
    }
   ],
   "source": [
    "n_largests2 = tfidf.select_n_largests(vectors=vectors)\n",
    "n_largests2"
   ]
  },
  {
   "cell_type": "markdown",
   "metadata": {},
   "source": [
    "**Lista de dicionários da forma: `[{'key': Tupla, 'neighbors': Lista[Tuplas]}]`**\n",
    "\n",
    "`key`: tuplas dos elementos com maiores tfidf\n",
    "\n",
    "`neighbors`: Lista de vizinhos mais próximos para cada `key`"
   ]
  },
  {
   "cell_type": "code",
   "execution_count": 21,
   "metadata": {},
   "outputs": [
    {
     "data": {
      "text/plain": [
       "[{'key': (2, 'se', 0.016720210643635644),\n",
       "  'neighbors': [(0, 'são', 0.004180052660908911),\n",
       "   (1, 'que', 0.004180052660908911),\n",
       "   (2, 'se', 0.016720210643635644),\n",
       "   (3, 'todos', 0.004180052660908911),\n",
       "   (4, 'é', -0.011863178245434263)]},\n",
       " {'key': (15, 'unificado', 0.008360105321817822),\n",
       "  'neighbors': [(13, 'declarações', 0.004180052660908911),\n",
       "   (14, 'ou', 0.004180052660908911),\n",
       "   (15, 'unificado', 0.008360105321817822),\n",
       "   (16, 'todas', 0.004180052660908911),\n",
       "   (17, 'frasal', -0.011863178245434263)]},\n",
       " {'key': (19, 'com', 0.008360105321817822),\n",
       "  'neighbors': [(17, 'frasal', -0.011863178245434263),\n",
       "   (18, 'considerando', 0.004180052660908911),\n",
       "   (19, 'com', 0.008360105321817822),\n",
       "   (20, 'as', 0.0),\n",
       "   (21, 'mini', 0.004180052660908911)]},\n",
       " {'key': (32, 'relacionam', 0.008360105321817822),\n",
       "  'neighbors': [(30, 'principal', 0.0),\n",
       "   (31, 'do', 0.0),\n",
       "   (32, 'relacionam', 0.008360105321817822),\n",
       "   (33, 'sentenças', 0.004180052660908911),\n",
       "   (34, 'tem', 0.0)]},\n",
       " {'key': (0, 'são', 0.004180052660908911),\n",
       "  'neighbors': [(0, 'são', 0.004180052660908911),\n",
       "   (1, 'que', 0.004180052660908911),\n",
       "   (2, 'se', 0.016720210643635644)]}]"
      ]
     },
     "execution_count": 21,
     "metadata": {},
     "output_type": "execute_result"
    }
   ],
   "source": [
    "tfidf.get_closest_neighbors(vectors=vectors)"
   ]
  },
  {
   "cell_type": "code",
   "execution_count": null,
   "metadata": {},
   "outputs": [],
   "source": []
  }
 ],
 "metadata": {
  "interpreter": {
   "hash": "7598cb7ea9dde01de882b849b5b3fab1d8679c9ba86ddaed5ab6c7288771da54"
  },
  "kernelspec": {
   "display_name": "Python 3.8.10 ('.venv': poetry)",
   "language": "python",
   "name": "python3"
  },
  "language_info": {
   "codemirror_mode": {
    "name": "ipython",
    "version": 3
   },
   "file_extension": ".py",
   "mimetype": "text/x-python",
   "name": "python",
   "nbconvert_exporter": "python",
   "pygments_lexer": "ipython3",
   "version": "3.8.10"
  }
 },
 "nbformat": 4,
 "nbformat_minor": 0
}
