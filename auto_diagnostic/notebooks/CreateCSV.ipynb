{
 "nbformat": 4,
 "nbformat_minor": 0,
 "metadata": {
  "colab": {
   "name": "CreateCSV.ipynb",
   "provenance": []
  },
  "kernelspec": {
   "name": "python3",
   "display_name": "Python 3"
  },
  "language_info": {
   "name": "python"
  }
 },
 "cells": [
  {
   "cell_type": "code",
   "execution_count": 1,
   "metadata": {
    "id": "fwx_UuMg7-LE",
    "pycharm": {
     "name": "#%%\n"
    }
   },
   "outputs": [],
   "source": [
    "import pandas as pd\n",
    "\n",
    "def create_csv(list_tokens, list_TF, list_TF_IDF):\n",
    "    \"\"\"\n",
    "        Funcao responsavel por gerar um arquivo csv com as colunas de tokens, TF e TF-IDF\n",
    "        Arguments:\n",
    "          list_tokens: str list -- Uma lista de str com todos os tokens\n",
    "          list_TF: float list -- Uma lista dos valores de TF\n",
    "          list_TF_IDF: float list -- Uma lista lista dos valores de TF-IDF\n",
    "        \n",
    "        Return:\n",
    "          \n",
    "    \"\"\"\n",
    "\n",
    "    df = pd.DataFrame({'Tokens': list_tokens,\n",
    "                       'TF': list_TF,\n",
    "                       'TF-IDF': list_TF_IDF})\n",
    "    \n",
    "    df.to_csv('dataframe.csv',index=False)"
   ]
  },
  {
   "cell_type": "code",
   "source": [
    "list_tokens = ['macarrão', 'churrasco', 'floricultura', 'tomate']\n",
    "list_TF = [0.005, 0.036, 0.000654, 0.0000007]\n",
    "list_TF_IDF = [0.05243, 0.0957389, 0.000843947, 0.0000253628]"
   ],
   "metadata": {
    "id": "T2jiLFFt_SZm",
    "pycharm": {
     "name": "#%%\n"
    }
   },
   "execution_count": 3,
   "outputs": []
  },
  {
   "cell_type": "code",
   "source": [
    "create_csv(list_tokens, list_TF, list_TF_IDF)"
   ],
   "metadata": {
    "id": "NuF5EZ0d_xNb",
    "pycharm": {
     "name": "#%%\n"
    }
   },
   "execution_count": 4,
   "outputs": []
  }
 ]
}